{
 "cells": [
  {
   "cell_type": "markdown",
   "id": "ba158b3b-cbf1-40f5-ab6e-50a9fcdc1026",
   "metadata": {},
   "source": [
    "# Atelier Workbench : Construire une IA avec SAS et Python"
   ]
  },
  {
   "attachments": {},
   "cell_type": "markdown",
   "id": "d39f9b03-244f-4991-8771-6752e2c4501f",
   "metadata": {},
   "source": [
    "Cet exemple illustre de bout en bout comment construire des modèles Python sur SAS Viya Workbench, ainsi que l’utilisation des nouvelles fonctionnalités de machine learning de SAS Viya à travers la nouvelle API Python du Workbench.\n",
    "\n",
    "Dans cet exemple, nous étudions les défauts de remboursement des demandes de prêt afin de déterminer quels clients devraient recevoir des prêts. L’objectif de notre projet est de construire et d’entraîner plusieurs modèles pouvant prédire si un client de la banque doit se voir accorder un prêt.\n",
    "\n",
    "Nous ciblons la variable Default, qui indique si un client a fait défaut sur un prêt [1] ou non [0].\n",
    "\n",
    "Le jeu de données utilisé est celui de LendingClub disponible sur Kaggle."
   ]
  },
  {
   "cell_type": "markdown",
   "id": "424d8f16-17f3-492d-9851-cd92a028b6e4",
   "metadata": {},
   "source": [
    "# Instructions\n",
    "\n",
    "Ce notebook est conçu pour être exécuté du début à la fin sans qu'aucune modification ne soit apportée au script. Cependant, vous pouvez à tout moment effectuer les changements que vous souhaitez.\n",
    "\n",
    "Si vous n'avez jamais utilisé Jupyter Notebook auparavant, vous pouvez cliquer sur les cellules de code et appuyer sur le bouton \"Exécuter\" dans le menu supérieur. Vous pouvez également utiliser le raccourci \"Shift + Entrée\".\n",
    "\n",
    "Dans VSCode, le bouton est intitulé \"Run All\"."
   ]
  },
  {
   "cell_type": "markdown",
   "id": "ae15b961-bfb0-4303-a33d-84cc2f633b89",
   "metadata": {
    "jp-MarkdownHeadingCollapsed": true
   },
   "source": [
    "# Step 1: Import Packages"
   ]
  },
  {
   "cell_type": "code",
   "execution_count": 1,
   "id": "d10ad630-6fda-41cb-bd06-44a028a786b1",
   "metadata": {},
   "outputs": [],
   "source": [
    "import os\n",
    "import numpy as np\n",
    "import pandas as pd\n",
    "import seaborn as sns\n",
    "import matplotlib.pyplot as plt\n",
    "\n",
    "from sklearn.preprocessing import LabelEncoder\n",
    "from sklearn.model_selection import train_test_split\n",
    "from sklearn.ensemble import RandomForestClassifier, GradientBoostingClassifier\n",
    "from sklearn.tree import DecisionTreeClassifier\n",
    "from sklearn.metrics import classification_report, accuracy_score, recall_score\n",
    "from sklearn.impute import SimpleImputer\n",
    "from sklearn.pipeline import Pipeline\n",
    "from sklearn.metrics import roc_auc_score\n"
   ]
  },
  {
   "cell_type": "markdown",
   "id": "2901bdb0-58d9-4b6e-b081-5073d0214f27",
   "metadata": {
    "jp-MarkdownHeadingCollapsed": true
   },
   "source": [
    "# Step 2: Importing our Data"
   ]
  },
  {
   "cell_type": "code",
   "execution_count": 8,
   "id": "2bca13cb-8e20-43e0-bfad-0b10c4bd1718",
   "metadata": {},
   "outputs": [
    {
     "name": "stdout",
     "output_type": "stream",
     "text": [
      "Training data shape (9578, 17)\n"
     ]
    }
   ],
   "source": [
    "# Save the bank's data as a dataframe \n",
    "# Using the pandas package \n",
    "\n",
    "# Call csv file by name\n",
    "lendingclub = pd.read_csv(\"../../data/lendingClubLoanData.csv\")\n",
    "\n",
    "# Show how many rows and columns in our data\n",
    "print(\"Training data shape\", lendingclub.shape)"
   ]
  },
  {
   "cell_type": "code",
   "execution_count": 10,
   "id": "f029be1e-423f-433a-b8d2-a473db682fb2",
   "metadata": {},
   "outputs": [
    {
     "data": {
      "text/html": [
       "<div>\n",
       "<style scoped>\n",
       "    .dataframe tbody tr th:only-of-type {\n",
       "        vertical-align: middle;\n",
       "    }\n",
       "\n",
       "    .dataframe tbody tr th {\n",
       "        vertical-align: top;\n",
       "    }\n",
       "\n",
       "    .dataframe thead th {\n",
       "        text-align: right;\n",
       "    }\n",
       "</style>\n",
       "<table border=\"1\" class=\"dataframe\">\n",
       "  <thead>\n",
       "    <tr style=\"text-align: right;\">\n",
       "      <th></th>\n",
       "      <th>CreditPolicy</th>\n",
       "      <th>Purpose</th>\n",
       "      <th>InterestRate</th>\n",
       "      <th>Installment</th>\n",
       "      <th>LogAnnualInc</th>\n",
       "      <th>DebtIncRatio</th>\n",
       "      <th>FICOScore</th>\n",
       "      <th>CreditLineAge</th>\n",
       "      <th>RevBalance</th>\n",
       "      <th>RevUtilization</th>\n",
       "      <th>Inquiries6Mnths</th>\n",
       "      <th>Delinquencies2Yrs</th>\n",
       "      <th>PublicRecord</th>\n",
       "      <th>Default</th>\n",
       "      <th>Age</th>\n",
       "      <th>Race</th>\n",
       "      <th>Gender</th>\n",
       "    </tr>\n",
       "  </thead>\n",
       "  <tbody>\n",
       "    <tr>\n",
       "      <th>0</th>\n",
       "      <td>1</td>\n",
       "      <td>debt_consolidation</td>\n",
       "      <td>0.1183</td>\n",
       "      <td>298.21</td>\n",
       "      <td>10.858999</td>\n",
       "      <td>20.49</td>\n",
       "      <td>712</td>\n",
       "      <td>4619.958333</td>\n",
       "      <td>23750</td>\n",
       "      <td>47.7</td>\n",
       "      <td>1</td>\n",
       "      <td>0</td>\n",
       "      <td>0</td>\n",
       "      <td>0</td>\n",
       "      <td>23</td>\n",
       "      <td>White</td>\n",
       "      <td>Female</td>\n",
       "    </tr>\n",
       "    <tr>\n",
       "      <th>1</th>\n",
       "      <td>1</td>\n",
       "      <td>educational</td>\n",
       "      <td>0.1148</td>\n",
       "      <td>461.56</td>\n",
       "      <td>11.599103</td>\n",
       "      <td>21.29</td>\n",
       "      <td>727</td>\n",
       "      <td>5250.000000</td>\n",
       "      <td>15812</td>\n",
       "      <td>50.0</td>\n",
       "      <td>1</td>\n",
       "      <td>0</td>\n",
       "      <td>0</td>\n",
       "      <td>1</td>\n",
       "      <td>63</td>\n",
       "      <td>Hispanic</td>\n",
       "      <td>Male</td>\n",
       "    </tr>\n",
       "    <tr>\n",
       "      <th>2</th>\n",
       "      <td>1</td>\n",
       "      <td>credit_card</td>\n",
       "      <td>0.1322</td>\n",
       "      <td>202.81</td>\n",
       "      <td>10.991426</td>\n",
       "      <td>14.47</td>\n",
       "      <td>682</td>\n",
       "      <td>4289.958333</td>\n",
       "      <td>6891</td>\n",
       "      <td>59.8</td>\n",
       "      <td>0</td>\n",
       "      <td>0</td>\n",
       "      <td>0</td>\n",
       "      <td>0</td>\n",
       "      <td>8</td>\n",
       "      <td>Hispanic</td>\n",
       "      <td>Male</td>\n",
       "    </tr>\n",
       "    <tr>\n",
       "      <th>3</th>\n",
       "      <td>1</td>\n",
       "      <td>home_improvement</td>\n",
       "      <td>0.1357</td>\n",
       "      <td>339.69</td>\n",
       "      <td>11.711776</td>\n",
       "      <td>8.38</td>\n",
       "      <td>682</td>\n",
       "      <td>5160.000000</td>\n",
       "      <td>865</td>\n",
       "      <td>72.1</td>\n",
       "      <td>3</td>\n",
       "      <td>0</td>\n",
       "      <td>0</td>\n",
       "      <td>0</td>\n",
       "      <td>37</td>\n",
       "      <td>Black</td>\n",
       "      <td>Male</td>\n",
       "    </tr>\n",
       "    <tr>\n",
       "      <th>4</th>\n",
       "      <td>1</td>\n",
       "      <td>all_other</td>\n",
       "      <td>0.1531</td>\n",
       "      <td>174.08</td>\n",
       "      <td>10.768401</td>\n",
       "      <td>3.79</td>\n",
       "      <td>672</td>\n",
       "      <td>3030.000000</td>\n",
       "      <td>2029</td>\n",
       "      <td>20.3</td>\n",
       "      <td>3</td>\n",
       "      <td>0</td>\n",
       "      <td>0</td>\n",
       "      <td>1</td>\n",
       "      <td>82</td>\n",
       "      <td>White</td>\n",
       "      <td>Female</td>\n",
       "    </tr>\n",
       "  </tbody>\n",
       "</table>\n",
       "</div>"
      ],
      "text/plain": [
       "   CreditPolicy             Purpose  InterestRate  Installment  LogAnnualInc  \\\n",
       "0             1  debt_consolidation        0.1183       298.21     10.858999   \n",
       "1             1         educational        0.1148       461.56     11.599103   \n",
       "2             1         credit_card        0.1322       202.81     10.991426   \n",
       "3             1    home_improvement        0.1357       339.69     11.711776   \n",
       "4             1           all_other        0.1531       174.08     10.768401   \n",
       "\n",
       "   DebtIncRatio  FICOScore  CreditLineAge  RevBalance  RevUtilization  \\\n",
       "0         20.49        712    4619.958333       23750            47.7   \n",
       "1         21.29        727    5250.000000       15812            50.0   \n",
       "2         14.47        682    4289.958333        6891            59.8   \n",
       "3          8.38        682    5160.000000         865            72.1   \n",
       "4          3.79        672    3030.000000        2029            20.3   \n",
       "\n",
       "   Inquiries6Mnths  Delinquencies2Yrs  PublicRecord  Default  Age      Race  \\\n",
       "0                1                  0             0        0   23     White   \n",
       "1                1                  0             0        1   63  Hispanic   \n",
       "2                0                  0             0        0    8  Hispanic   \n",
       "3                3                  0             0        0   37     Black   \n",
       "4                3                  0             0        1   82     White   \n",
       "\n",
       "   Gender  \n",
       "0  Female  \n",
       "1    Male  \n",
       "2    Male  \n",
       "3    Male  \n",
       "4  Female  "
      ]
     },
     "execution_count": 10,
     "metadata": {},
     "output_type": "execute_result"
    }
   ],
   "source": [
    "# Have a glimpse of 5 rows from our dataset\n",
    "lendingclub.head()"
   ]
  },
  {
   "cell_type": "markdown",
   "id": "e6aff9e9-58d7-4f1e-8c0d-ef9414a10b50",
   "metadata": {},
   "source": [
    "<div class=\"alert alert-info\" role=\"alert\">\n",
    "Nous avons maintenant notre jeu de données prêt à l'emploi. Découvrons quelles informations il contient et quels enseignements nous pouvons en tirer.</div>"
   ]
  },
  {
   "cell_type": "markdown",
   "id": "8f7c53a9-bddd-4b1e-ba06-3745d842054b",
   "metadata": {
    "jp-MarkdownHeadingCollapsed": true
   },
   "source": [
    "# Step 3: Exploratory Data Analysis (EDA)\n",
    "\n",
    "Sur Workbench, nous pouvons effectuer notre analyse exploratoire des données (EDA) en utilisant des frameworks Python standard comme pandas et matplotlib. Sur Workbench, il n’est pas nécessaire de les configurer – ils sont déjà prêts à l’emploi, et nous pouvons commencer immédiatement."
   ]
  },
  {
   "cell_type": "markdown",
   "id": "28b05b52-3db4-48bb-b8cb-3b7cfab2b25a",
   "metadata": {},
   "source": [
    "## Variables "
   ]
  },
  {
   "cell_type": "code",
   "execution_count": 11,
   "id": "d30def92-8b9f-46e4-b07e-0b6d8129881b",
   "metadata": {},
   "outputs": [
    {
     "name": "stdout",
     "output_type": "stream",
     "text": [
      "<class 'pandas.core.frame.DataFrame'>\n",
      "RangeIndex: 9578 entries, 0 to 9577\n",
      "Data columns (total 17 columns):\n",
      " #   Column             Non-Null Count  Dtype  \n",
      "---  ------             --------------  -----  \n",
      " 0   CreditPolicy       9578 non-null   int64  \n",
      " 1   Purpose            9578 non-null   object \n",
      " 2   InterestRate       9578 non-null   float64\n",
      " 3   Installment        9578 non-null   float64\n",
      " 4   LogAnnualInc       9578 non-null   float64\n",
      " 5   DebtIncRatio       9578 non-null   float64\n",
      " 6   FICOScore          9578 non-null   int64  \n",
      " 7   CreditLineAge      9578 non-null   float64\n",
      " 8   RevBalance         9578 non-null   int64  \n",
      " 9   RevUtilization     9578 non-null   float64\n",
      " 10  Inquiries6Mnths    9578 non-null   int64  \n",
      " 11  Delinquencies2Yrs  9578 non-null   int64  \n",
      " 12  PublicRecord       9578 non-null   int64  \n",
      " 13  Default            9578 non-null   int64  \n",
      " 14  Age                9578 non-null   int64  \n",
      " 15  Race               9578 non-null   object \n",
      " 16  Gender             9578 non-null   object \n",
      "dtypes: float64(6), int64(8), object(3)\n",
      "memory usage: 1.2+ MB\n"
     ]
    }
   ],
   "source": [
    "# understanding column names and format\n",
    "lendingclub.info()"
   ]
  },
  {
   "cell_type": "markdown",
   "id": "d2095d57-53c6-4f88-958e-f74e8ca70ea6",
   "metadata": {},
   "source": [
    "## Données Manquantes"
   ]
  },
  {
   "cell_type": "code",
   "execution_count": 12,
   "id": "2d8b8bcc-6f9d-49d4-9e41-a6e4acc35cdf",
   "metadata": {},
   "outputs": [
    {
     "data": {
      "text/plain": [
       "CreditPolicy         0\n",
       "Purpose              0\n",
       "InterestRate         0\n",
       "Installment          0\n",
       "LogAnnualInc         0\n",
       "DebtIncRatio         0\n",
       "FICOScore            0\n",
       "CreditLineAge        0\n",
       "RevBalance           0\n",
       "RevUtilization       0\n",
       "Inquiries6Mnths      0\n",
       "Delinquencies2Yrs    0\n",
       "PublicRecord         0\n",
       "Default              0\n",
       "Age                  0\n",
       "Race                 0\n",
       "Gender               0\n",
       "dtype: int64"
      ]
     },
     "execution_count": 12,
     "metadata": {},
     "output_type": "execute_result"
    }
   ],
   "source": [
    "# Checking for missing data in our variables\n",
    "lendingclub.isna().sum()"
   ]
  },
  {
   "cell_type": "markdown",
   "id": "e36196e7-4127-4217-b927-66f8ff6655d4",
   "metadata": {},
   "source": [
    "## Statistiques Résumées"
   ]
  },
  {
   "cell_type": "code",
   "execution_count": 13,
   "id": "55f88122-f586-4e33-aacb-5f383eda5d15",
   "metadata": {},
   "outputs": [
    {
     "data": {
      "text/html": [
       "<div>\n",
       "<style scoped>\n",
       "    .dataframe tbody tr th:only-of-type {\n",
       "        vertical-align: middle;\n",
       "    }\n",
       "\n",
       "    .dataframe tbody tr th {\n",
       "        vertical-align: top;\n",
       "    }\n",
       "\n",
       "    .dataframe thead th {\n",
       "        text-align: right;\n",
       "    }\n",
       "</style>\n",
       "<table border=\"1\" class=\"dataframe\">\n",
       "  <thead>\n",
       "    <tr style=\"text-align: right;\">\n",
       "      <th></th>\n",
       "      <th>count</th>\n",
       "      <th>mean</th>\n",
       "      <th>std</th>\n",
       "      <th>min</th>\n",
       "      <th>25%</th>\n",
       "      <th>50%</th>\n",
       "      <th>75%</th>\n",
       "      <th>max</th>\n",
       "    </tr>\n",
       "  </thead>\n",
       "  <tbody>\n",
       "    <tr>\n",
       "      <th>CreditPolicy</th>\n",
       "      <td>9578.0</td>\n",
       "      <td>0.804970</td>\n",
       "      <td>0.396245</td>\n",
       "      <td>0.000000</td>\n",
       "      <td>1.000000</td>\n",
       "      <td>1.000000</td>\n",
       "      <td>1.000000</td>\n",
       "      <td>1.000000e+00</td>\n",
       "    </tr>\n",
       "    <tr>\n",
       "      <th>InterestRate</th>\n",
       "      <td>9578.0</td>\n",
       "      <td>0.122640</td>\n",
       "      <td>0.026847</td>\n",
       "      <td>0.060000</td>\n",
       "      <td>0.103900</td>\n",
       "      <td>0.122100</td>\n",
       "      <td>0.140700</td>\n",
       "      <td>2.164000e-01</td>\n",
       "    </tr>\n",
       "    <tr>\n",
       "      <th>Installment</th>\n",
       "      <td>9578.0</td>\n",
       "      <td>319.089413</td>\n",
       "      <td>207.071301</td>\n",
       "      <td>15.670000</td>\n",
       "      <td>163.770000</td>\n",
       "      <td>268.950000</td>\n",
       "      <td>432.762500</td>\n",
       "      <td>9.401400e+02</td>\n",
       "    </tr>\n",
       "    <tr>\n",
       "      <th>LogAnnualInc</th>\n",
       "      <td>9578.0</td>\n",
       "      <td>10.932117</td>\n",
       "      <td>0.614813</td>\n",
       "      <td>7.547502</td>\n",
       "      <td>10.558414</td>\n",
       "      <td>10.928884</td>\n",
       "      <td>11.291293</td>\n",
       "      <td>1.452835e+01</td>\n",
       "    </tr>\n",
       "    <tr>\n",
       "      <th>DebtIncRatio</th>\n",
       "      <td>9578.0</td>\n",
       "      <td>12.606679</td>\n",
       "      <td>6.883970</td>\n",
       "      <td>0.000000</td>\n",
       "      <td>7.212500</td>\n",
       "      <td>12.665000</td>\n",
       "      <td>17.950000</td>\n",
       "      <td>2.996000e+01</td>\n",
       "    </tr>\n",
       "    <tr>\n",
       "      <th>FICOScore</th>\n",
       "      <td>9578.0</td>\n",
       "      <td>710.846314</td>\n",
       "      <td>37.970537</td>\n",
       "      <td>612.000000</td>\n",
       "      <td>682.000000</td>\n",
       "      <td>707.000000</td>\n",
       "      <td>737.000000</td>\n",
       "      <td>8.270000e+02</td>\n",
       "    </tr>\n",
       "    <tr>\n",
       "      <th>CreditLineAge</th>\n",
       "      <td>9578.0</td>\n",
       "      <td>4560.767197</td>\n",
       "      <td>2496.930377</td>\n",
       "      <td>178.958333</td>\n",
       "      <td>2820.000000</td>\n",
       "      <td>4139.958333</td>\n",
       "      <td>5730.000000</td>\n",
       "      <td>1.763996e+04</td>\n",
       "    </tr>\n",
       "    <tr>\n",
       "      <th>RevBalance</th>\n",
       "      <td>9578.0</td>\n",
       "      <td>16913.963876</td>\n",
       "      <td>33756.189557</td>\n",
       "      <td>0.000000</td>\n",
       "      <td>3187.000000</td>\n",
       "      <td>8596.000000</td>\n",
       "      <td>18249.500000</td>\n",
       "      <td>1.207359e+06</td>\n",
       "    </tr>\n",
       "    <tr>\n",
       "      <th>RevUtilization</th>\n",
       "      <td>9578.0</td>\n",
       "      <td>46.799236</td>\n",
       "      <td>29.014417</td>\n",
       "      <td>0.000000</td>\n",
       "      <td>22.600000</td>\n",
       "      <td>46.300000</td>\n",
       "      <td>70.900000</td>\n",
       "      <td>1.190000e+02</td>\n",
       "    </tr>\n",
       "    <tr>\n",
       "      <th>Inquiries6Mnths</th>\n",
       "      <td>9578.0</td>\n",
       "      <td>1.577469</td>\n",
       "      <td>2.200245</td>\n",
       "      <td>0.000000</td>\n",
       "      <td>0.000000</td>\n",
       "      <td>1.000000</td>\n",
       "      <td>2.000000</td>\n",
       "      <td>3.300000e+01</td>\n",
       "    </tr>\n",
       "    <tr>\n",
       "      <th>Delinquencies2Yrs</th>\n",
       "      <td>9578.0</td>\n",
       "      <td>0.163708</td>\n",
       "      <td>0.546215</td>\n",
       "      <td>0.000000</td>\n",
       "      <td>0.000000</td>\n",
       "      <td>0.000000</td>\n",
       "      <td>0.000000</td>\n",
       "      <td>1.300000e+01</td>\n",
       "    </tr>\n",
       "    <tr>\n",
       "      <th>PublicRecord</th>\n",
       "      <td>9578.0</td>\n",
       "      <td>0.062122</td>\n",
       "      <td>0.262126</td>\n",
       "      <td>0.000000</td>\n",
       "      <td>0.000000</td>\n",
       "      <td>0.000000</td>\n",
       "      <td>0.000000</td>\n",
       "      <td>5.000000e+00</td>\n",
       "    </tr>\n",
       "    <tr>\n",
       "      <th>Default</th>\n",
       "      <td>9578.0</td>\n",
       "      <td>0.160054</td>\n",
       "      <td>0.366676</td>\n",
       "      <td>0.000000</td>\n",
       "      <td>0.000000</td>\n",
       "      <td>0.000000</td>\n",
       "      <td>0.000000</td>\n",
       "      <td>1.000000e+00</td>\n",
       "    </tr>\n",
       "    <tr>\n",
       "      <th>Age</th>\n",
       "      <td>9578.0</td>\n",
       "      <td>40.078200</td>\n",
       "      <td>25.071052</td>\n",
       "      <td>0.000000</td>\n",
       "      <td>20.000000</td>\n",
       "      <td>38.000000</td>\n",
       "      <td>57.000000</td>\n",
       "      <td>1.000000e+02</td>\n",
       "    </tr>\n",
       "  </tbody>\n",
       "</table>\n",
       "</div>"
      ],
      "text/plain": [
       "                    count          mean           std         min  \\\n",
       "CreditPolicy       9578.0      0.804970      0.396245    0.000000   \n",
       "InterestRate       9578.0      0.122640      0.026847    0.060000   \n",
       "Installment        9578.0    319.089413    207.071301   15.670000   \n",
       "LogAnnualInc       9578.0     10.932117      0.614813    7.547502   \n",
       "DebtIncRatio       9578.0     12.606679      6.883970    0.000000   \n",
       "FICOScore          9578.0    710.846314     37.970537  612.000000   \n",
       "CreditLineAge      9578.0   4560.767197   2496.930377  178.958333   \n",
       "RevBalance         9578.0  16913.963876  33756.189557    0.000000   \n",
       "RevUtilization     9578.0     46.799236     29.014417    0.000000   \n",
       "Inquiries6Mnths    9578.0      1.577469      2.200245    0.000000   \n",
       "Delinquencies2Yrs  9578.0      0.163708      0.546215    0.000000   \n",
       "PublicRecord       9578.0      0.062122      0.262126    0.000000   \n",
       "Default            9578.0      0.160054      0.366676    0.000000   \n",
       "Age                9578.0     40.078200     25.071052    0.000000   \n",
       "\n",
       "                           25%          50%           75%           max  \n",
       "CreditPolicy          1.000000     1.000000      1.000000  1.000000e+00  \n",
       "InterestRate          0.103900     0.122100      0.140700  2.164000e-01  \n",
       "Installment         163.770000   268.950000    432.762500  9.401400e+02  \n",
       "LogAnnualInc         10.558414    10.928884     11.291293  1.452835e+01  \n",
       "DebtIncRatio          7.212500    12.665000     17.950000  2.996000e+01  \n",
       "FICOScore           682.000000   707.000000    737.000000  8.270000e+02  \n",
       "CreditLineAge      2820.000000  4139.958333   5730.000000  1.763996e+04  \n",
       "RevBalance         3187.000000  8596.000000  18249.500000  1.207359e+06  \n",
       "RevUtilization       22.600000    46.300000     70.900000  1.190000e+02  \n",
       "Inquiries6Mnths       0.000000     1.000000      2.000000  3.300000e+01  \n",
       "Delinquencies2Yrs     0.000000     0.000000      0.000000  1.300000e+01  \n",
       "PublicRecord          0.000000     0.000000      0.000000  5.000000e+00  \n",
       "Default               0.000000     0.000000      0.000000  1.000000e+00  \n",
       "Age                  20.000000    38.000000     57.000000  1.000000e+02  "
      ]
     },
     "execution_count": 13,
     "metadata": {},
     "output_type": "execute_result"
    }
   ],
   "source": [
    "# Afficher le nombre, la moyenne, les plages et d'autres informations utiles pour comprendre nos données\n",
    "lendingclub.describe().T"
   ]
  },
  {
   "cell_type": "markdown",
   "id": "fb2b0172-30cd-4004-b859-ebf8472a43ca",
   "metadata": {},
   "source": [
    "## Distribution"
   ]
  },
  {
   "cell_type": "code",
   "execution_count": 14,
   "id": "c3119941-2da9-487b-a376-e5fec5dc6f08",
   "metadata": {},
   "outputs": [],
   "source": [
    "# Création d'une fonction pour tracer un graphique avec nos données \n",
    "def plot_distribution(column):\n",
    "    labels = column.value_counts().index\n",
    "    values = column.value_counts().values\n",
    "\n",
    "    fig, axs = plt.subplots(1, 2, figsize=(12, 6))\n",
    "\n",
    "    axs[0].pie(values, labels=labels, autopct='%1.1f%%', startangle=140)\n",
    "    axs[0].set_title(f'{column.name} Distribution (Pie Chart)')\n",
    "\n",
    "    axs[1].bar(labels, values)\n",
    "    axs[1].set_title(f'{column.name} Distribution (Bar Chart)')\n",
    "    axs[1].set_xlabel(column.name)\n",
    "    axs[1].set_ylabel('Count')\n",
    "\n",
    "    plt.tight_layout()\n",
    "    plt.show()"
   ]
  },
  {
   "cell_type": "code",
   "execution_count": 15,
   "id": "e0ad0060-e2bf-4490-9b5f-c558a769bfc8",
   "metadata": {},
   "outputs": [
    {
     "data": {
      "image/png": "[encoded data removed]",
      "text/plain": [
       "<Figure size 1200x600 with 2 Axes>"
      ]
     },
     "metadata": {},
     "output_type": "display_data"
    }
   ],
   "source": [
    "# Variable Cible : Statut\n",
    "\n",
    "plot_distribution(lendingclub[\"Default\"])"
   ]
  },
  {
   "cell_type": "markdown",
   "id": "968c8b0b-62ec-477f-82f9-2e412649a70f",
   "metadata": {},
   "source": [
    "<div class=\"alert alert-info\" role=\"alert\">\n",
    "Ici, nous pouvons constater qu'environ 16 % de nos données représentent des clients ayant fait défaut sur leurs prêts.\n",
    "</div>"
   ]
  },
  {
   "cell_type": "code",
   "execution_count": 16,
   "id": "2cc36b3e-77e5-44a2-8500-f0606d49db60",
   "metadata": {
    "editable": true,
    "slideshow": {
     "slide_type": ""
    },
    "tags": []
   },
   "outputs": [
    {
     "data": {
      "image/png": "[encoded data removed]",
      "text/plain": [
       "<Figure size 1200x600 with 1 Axes>"
      ]
     },
     "metadata": {},
     "output_type": "display_data"
    }
   ],
   "source": [
    "# Calculate the frequency of FICOScore\n",
    "fico_counts = lendingclub['FICOScore'].value_counts().sort_index()\n",
    "\n",
    "# Create bar chart\n",
    "plt.figure(figsize=(12, 6))\n",
    "plt.bar(fico_counts.index, fico_counts.values, color='skyblue')\n",
    "plt.xlabel('FICO Score')\n",
    "plt.ylabel('Count')\n",
    "plt.title('FICO Score Distribution')\n",
    "plt.tick_params(labelsize=7)\n",
    "plt.xticks(fico_counts.index)\n",
    "plt.grid(axis='y', linestyle='--', alpha=0.7)\n",
    "plt.show()"
   ]
  },
  {
   "cell_type": "code",
   "execution_count": 17,
   "id": "cda774b4",
   "metadata": {},
   "outputs": [
    {
     "data": {
      "text/html": [
       "<div>\n",
       "<style scoped>\n",
       "    .dataframe tbody tr th:only-of-type {\n",
       "        vertical-align: middle;\n",
       "    }\n",
       "\n",
       "    .dataframe tbody tr th {\n",
       "        vertical-align: top;\n",
       "    }\n",
       "\n",
       "    .dataframe thead th {\n",
       "        text-align: right;\n",
       "    }\n",
       "</style>\n",
       "<table border=\"1\" class=\"dataframe\">\n",
       "  <thead>\n",
       "    <tr style=\"text-align: right;\">\n",
       "      <th></th>\n",
       "      <th>Count</th>\n",
       "      <th>Percentage</th>\n",
       "    </tr>\n",
       "    <tr>\n",
       "      <th>bins</th>\n",
       "      <th></th>\n",
       "      <th></th>\n",
       "    </tr>\n",
       "  </thead>\n",
       "  <tbody>\n",
       "    <tr>\n",
       "      <th>(0, 580]</th>\n",
       "      <td>0</td>\n",
       "      <td>0.000000</td>\n",
       "    </tr>\n",
       "    <tr>\n",
       "      <th>(580, 670]</th>\n",
       "      <td>1341</td>\n",
       "      <td>14.000835</td>\n",
       "    </tr>\n",
       "    <tr>\n",
       "      <th>(670, 740]</th>\n",
       "      <td>6007</td>\n",
       "      <td>62.716642</td>\n",
       "    </tr>\n",
       "    <tr>\n",
       "      <th>(740, 800]</th>\n",
       "      <td>2085</td>\n",
       "      <td>21.768636</td>\n",
       "    </tr>\n",
       "    <tr>\n",
       "      <th>(800, 827]</th>\n",
       "      <td>145</td>\n",
       "      <td>1.513886</td>\n",
       "    </tr>\n",
       "  </tbody>\n",
       "</table>\n",
       "</div>"
      ],
      "text/plain": [
       "            Count  Percentage\n",
       "bins                         \n",
       "(0, 580]        0    0.000000\n",
       "(580, 670]   1341   14.000835\n",
       "(670, 740]   6007   62.716642\n",
       "(740, 800]   2085   21.768636\n",
       "(800, 827]    145    1.513886"
      ]
     },
     "execution_count": 17,
     "metadata": {},
     "output_type": "execute_result"
    }
   ],
   "source": [
    "## Showcase distribution of FICOScores\n",
    "fico_df = pd.DataFrame({\n",
    "    'FICOScore': lendingclub['FICOScore'].tolist(),\n",
    "    'Default': lendingclub['Default'].tolist()\n",
    "})\n",
    "\n",
    "fico_bins = [0, 580, 670, 740, 800, fico_df['FICOScore'].max()]\n",
    "fico_df['bins'] = pd.cut(lendingclub['FICOScore'], bins=fico_bins)\n",
    "\n",
    "fico_counts = fico_df['bins'].value_counts()\n",
    "fico_default = fico_df['Default'].value_counts()\n",
    "fico_percent =  fico_df['bins'].value_counts(normalize=True) * 100\n",
    "\n",
    "results = pd.DataFrame({'Count': fico_counts, 'Percentage': fico_percent})\n",
    "results.sort_values('bins')"
   ]
  },
  {
   "cell_type": "markdown",
   "id": "76196909-d50e-4918-8b70-2d47e6a6fdfb",
   "metadata": {},
   "source": [
    "<div class=\"alert alert-info\" role=\"alert\">\n",
    "Notre graphique à barres et notre tableau montrent qu'il n'y a pas de clients dans les données ayant un mauvais score de crédit, et plus de 60 % ont un bon score de crédit. </div>"
   ]
  },
  {
   "cell_type": "code",
   "execution_count": 18,
   "id": "3b41aded-9f92-46f0-a80f-b5b0c2998f33",
   "metadata": {},
   "outputs": [
    {
     "data": {
      "image/png": "[encoded data removed]",
      "text/plain": [
       "<Figure size 1200x600 with 1 Axes>"
      ]
     },
     "metadata": {},
     "output_type": "display_data"
    }
   ],
   "source": [
    "# Calculate grouped counts\n",
    "grouped_counts = lendingclub.groupby(['Purpose', 'Default']).size().unstack(fill_value=0)\n",
    "\n",
    "plt.figure(figsize=(12, 6))\n",
    "\n",
    "# Width of each bar\n",
    "bar_width = 0.2\n",
    "\n",
    "# Positions of bars on X-axis for grouped_counts plot\n",
    "ind1 = range(len(grouped_counts))\n",
    "\n",
    "# Plotting bars for grouped_counts\n",
    "for i, status in enumerate(grouped_counts.columns):\n",
    "    plt.bar([x + i * bar_width for x in ind1], grouped_counts[status], width=bar_width, label=status)\n",
    "\n",
    "# plt.xticks(ind1)\n",
    "plt.xticks([0,1,2,3,4,5,6], grouped_counts.index.tolist())\n",
    "plt.xlabel('Purpose')\n",
    "plt.ylabel('Count')\n",
    "plt.title('Defaults by Purpose')\n",
    "plt.legend()\n",
    "\n",
    "# Display the combined plot\n",
    "plt.show()\n"
   ]
  },
  {
   "cell_type": "markdown",
   "id": "7b5aef7a-ebea-49b1-ba28-952f51058c20",
   "metadata": {},
   "source": [
    "<div class=\"alert alert-info\" role=\"alert\">\n",
    "Nous pouvons voir de manière écrasante que la majorité de nos clients ont contracté un prêt dans le but de consolider leurs dettes.\n",
    "</div>"
   ]
  },
  {
   "cell_type": "markdown",
   "id": "da063a07-e1f2-4644-9d1f-96d5b4e80db1",
   "metadata": {
    "jp-MarkdownHeadingCollapsed": true
   },
   "source": [
    "# Step 4: Data Wrangling\n",
    "\n",
    "Dans ce cas, nous allons encoder nos variables catégorielles.\n"
   ]
  },
  {
   "cell_type": "markdown",
   "id": "6493c640-68eb-4a22-87d7-114a5fba00ce",
   "metadata": {},
   "source": [
    "## Label Encoding\n",
    "\n",
    "<div class=\"alert alert-info\" role=\"alert\">\n",
    "Cette étape permettra de représenter correctement nos variables catégorielles sous forme de nombres. Nous avons identifié que nos variables catégorielles contiennent des informations précieuses sur les habitudes d'achat, ce qui signifie que nous avons l'intention de les conserver dans nos modèles pour obtenir des résultats précis.\n",
    "</div>"
   ]
  },
  {
   "cell_type": "code",
   "execution_count": 19,
   "id": "04062614",
   "metadata": {},
   "outputs": [],
   "source": [
    "def dummy_column(column, df):\n",
    "    return pd.concat([df, pd.get_dummies(df[column], dtype = int)], axis = 1).drop(column, axis = 1)"
   ]
  },
  {
   "cell_type": "code",
   "execution_count": 20,
   "id": "4ce80976",
   "metadata": {},
   "outputs": [],
   "source": [
    "categorical_columns = [\"Purpose\"]\n",
    "for cat_column in categorical_columns:\n",
    "    input_df = dummy_column(cat_column, lendingclub)"
   ]
  },
  {
   "cell_type": "code",
   "execution_count": 21,
   "id": "6c80ffe5-3cf4-443e-a920-cc24ee336ee1",
   "metadata": {},
   "outputs": [
    {
     "name": "stdout",
     "output_type": "stream",
     "text": [
      "<class 'pandas.core.frame.DataFrame'>\n",
      "RangeIndex: 9578 entries, 0 to 9577\n",
      "Data columns (total 17 columns):\n",
      " #   Column             Non-Null Count  Dtype  \n",
      "---  ------             --------------  -----  \n",
      " 0   CreditPolicy       9578 non-null   int64  \n",
      " 1   Purpose            9578 non-null   object \n",
      " 2   InterestRate       9578 non-null   float64\n",
      " 3   Installment        9578 non-null   float64\n",
      " 4   LogAnnualInc       9578 non-null   float64\n",
      " 5   DebtIncRatio       9578 non-null   float64\n",
      " 6   FICOScore          9578 non-null   int64  \n",
      " 7   CreditLineAge      9578 non-null   float64\n",
      " 8   RevBalance         9578 non-null   int64  \n",
      " 9   RevUtilization     9578 non-null   float64\n",
      " 10  Inquiries6Mnths    9578 non-null   int64  \n",
      " 11  Delinquencies2Yrs  9578 non-null   int64  \n",
      " 12  PublicRecord       9578 non-null   int64  \n",
      " 13  Default            9578 non-null   int64  \n",
      " 14  Age                9578 non-null   int64  \n",
      " 15  Race               9578 non-null   object \n",
      " 16  Gender             9578 non-null   object \n",
      "dtypes: float64(6), int64(8), object(3)\n",
      "memory usage: 1.2+ MB\n"
     ]
    }
   ],
   "source": [
    "# Checking result of parsing and imputation - should all be integer or float (numerical)\n",
    "lendingclub.info()"
   ]
  },
  {
   "cell_type": "markdown",
   "id": "d0bce3c4",
   "metadata": {},
   "source": [
    "# Step 5: Modelling"
   ]
  },
  {
   "cell_type": "markdown",
   "id": "dc354ce6-1112-492a-9548-af26bd2ba8c3",
   "metadata": {},
   "source": [
    "## Train/Test Split\n",
    "\n",
    "<div class=\"alert alert-info\" role=\"alert\">\n",
    "\n",
    "Nous avons divisé notre ensemble de données en ensembles d'entraînement et de test afin de garantir que notre modèle soit entraîné sans connaître notre variable cible et disposer de toutes les informations. Cela permet au modèle d’être plus robuste face aux données inconnues, qui, dans notre cas, seraient les données des nouveaux clients. L'ensemble de test permettra ensuite d'évaluer les performances de notre modèle en comparant les valeurs prédites de l'état avec les résultats réels du défaut.\n",
    "\n",
    "Nous n'utilisons également pas de variables privées et sensibles telles que l'âge, le sexe et la race, car cela entraînerait un biais injuste dans la manière dont nous accordons les prêts.\n",
    "\n",
    "</div>"
   ]
  },
  {
   "cell_type": "code",
   "execution_count": 22,
   "id": "7258844e-a2ac-4bfc-b7bd-e6103e66ed44",
   "metadata": {},
   "outputs": [],
   "source": [
    "x = input_df.drop(['Age', 'Gender', 'Race', 'Default', 'Installment', 'InterestRate'], axis=1)\n",
    "y = input_df['Default']"
   ]
  },
  {
   "cell_type": "code",
   "execution_count": 23,
   "id": "03e4a3a5-1a1b-4df1-acdc-a82317cd7089",
   "metadata": {},
   "outputs": [],
   "source": [
    "X_train, X_valid, y_train, y_valid = train_test_split(x, y, test_size=0.2, random_state=42)"
   ]
  },
  {
   "cell_type": "code",
   "execution_count": 24,
   "id": "e2685cee-1458-4b3b-865a-a873f869c136",
   "metadata": {},
   "outputs": [
    {
     "name": "stdout",
     "output_type": "stream",
     "text": [
      "(7662, 17)\n",
      "(1916, 17)\n",
      "(7662,)\n",
      "(1916,)\n"
     ]
    }
   ],
   "source": [
    "# checking split results\n",
    "print(X_train.shape)\n",
    "print(X_valid.shape)\n",
    "print(y_train.shape)\n",
    "print(y_valid.shape)"
   ]
  },
  {
   "cell_type": "markdown",
   "id": "e6ee557d-fc2e-4655-8291-df647fdcec46",
   "metadata": {},
   "source": [
    "## Python sklearn Models\n",
    "La bibliothèque scikit-learn (sklearn) de Python offre une large gamme de modèles d'apprentissage automatique et est considérée comme une bibliothèque standard pour effectuer des analyses et de l'apprentissage automatique au sein de Python."
   ]
  },
  {
   "cell_type": "markdown",
   "id": "00d336a1-0ca8-49f8-9e70-34c3cf25f02a",
   "metadata": {},
   "source": [
    "### Random Forest\n",
    "\n",
    "Un modèle de Forêt Aléatoire (Random Forest) est une autre méthode d'apprentissage ensembliste qui construit plusieurs arbres de décision lors de l'entraînement et fournit le mode des classes (classification) ou la moyenne des prédictions (régression) des arbres individuels. Les forêts aléatoires corrigent l'habitude des arbres de décision de surajuster leur ensemble d'entraînement. Elles sont robustes contre le surapprentissage et fonctionnent bien avec les hyperparamètres par défaut. Les forêts aléatoires sont largement utilisées dans divers domaines, de la banque à la médecine, en raison de leurs performances et de leur simplicité."
   ]
  },
  {
   "cell_type": "code",
   "execution_count": 25,
   "id": "30a59e60-ec0d-4e8c-a2b8-2c7ce7852136",
   "metadata": {},
   "outputs": [
    {
     "name": "stdout",
     "output_type": "stream",
     "text": [
      "Train Accuracy: 1.0\n",
      "Test Accuracy: 0.8413361169102297\n",
      "---\n",
      "Train AUC: 1.0\n",
      "Test AUC: 0.6025382485009814\n"
     ]
    }
   ],
   "source": [
    "# Random Forest\n",
    "\n",
    "# Setting our weights and random state for consistent results\n",
    "model = RandomForestClassifier(\n",
    "    class_weight='balanced',\n",
    "    random_state=42\n",
    ")\n",
    "\n",
    "# Creating our model pipeline\n",
    "rf_pipeline = Pipeline([\n",
    "    ('classifier', model)\n",
    "])\n",
    "\n",
    "#Train our model using the training data and training \"Status\" results\n",
    "rf_pipeline.fit(X_train, y_train)\n",
    "\n",
    "# Accuracy metrics comparing our training and testing data predictions to the actual results of Status\n",
    "# Data model was trained on\n",
    "train_accuracy = accuracy_score(y_train, rf_pipeline.predict(X_train))\n",
    "# Unseen data to test model's fit\n",
    "test_accuracy = accuracy_score(y_valid, rf_pipeline.predict(X_valid))\n",
    "\n",
    "skrf_train_auc = roc_auc_score(y_train, rf_pipeline.predict_proba(X_train)[:,1])\n",
    "skrf_test_auc = roc_auc_score(y_valid, rf_pipeline.predict_proba(X_valid)[:,1])\n",
    "\n",
    "\n",
    "\n",
    "# Model Evaluation Metrics\n",
    "print(\"Train Accuracy:\", train_accuracy)\n",
    "print(\"Test Accuracy:\", test_accuracy)\n",
    "print(\"---\")\n",
    "print(\"Train AUC:\", skrf_train_auc)\n",
    "print(\"Test AUC:\", skrf_test_auc)"
   ]
  },
  {
   "cell_type": "markdown",
   "id": "2a3968ca-3f64-4447-9b0f-44c3701c3197",
   "metadata": {},
   "source": [
    "### Gradient Boosting\n",
    "Le Gradient Boosting est une technique d'apprentissage ensembliste qui combine les prédictions de plusieurs estimateurs de base afin d'améliorer la robustesse et la précision. Dans ce modèle, les arbres sont construits de manière séquentielle, chaque arbre cherchant à corriger les erreurs du précédent. Il ajuste de nouveaux modèles pour fournir une estimation plus précise de la variable cible. Le Gradient Boosting est particulièrement puissant et dépasse souvent les autres méthodes ensemblistes en raison de sa capacité à optimiser une large gamme de fonctions objectives et de sa flexibilité pour traiter différents types de données."
   ]
  },
  {
   "cell_type": "code",
   "execution_count": 26,
   "id": "e2419b87-a477-41e6-bcbb-8b2d95e2936d",
   "metadata": {},
   "outputs": [
    {
     "name": "stdout",
     "output_type": "stream",
     "text": [
      "Train Accuracy: 0.851213782302271\n",
      "Test Accuracy: 0.8408141962421712\n",
      "---\n",
      "Train AUC: 1.0\n",
      "Test AUC: 0.6025382485009814\n"
     ]
    }
   ],
   "source": [
    "# Gradient Boosting\n",
    "\n",
    "# Set the parameters needed for our gradient boosting model\n",
    "model = GradientBoostingClassifier(\n",
    "    random_state=42\n",
    ")\n",
    "\n",
    "# Creating our model pipeline\n",
    "gb_pipeline = Pipeline([\n",
    "    ('classifier', model)\n",
    "])\n",
    "\n",
    "#Train our model using the training data and training \"Status\" results\n",
    "gb_pipeline.fit(X_train, y_train)\n",
    "\n",
    "# Accuracy metrics comparing our training and testing data predictions to the actual results of Status\n",
    "# Data model was trained on\n",
    "train_accuracy = accuracy_score(y_train, gb_pipeline.predict(X_train))\n",
    "# Unseen data to test model's fit\n",
    "test_accuracy = accuracy_score(y_valid, gb_pipeline.predict(X_valid))\n",
    "\n",
    "skgb_train_auc = roc_auc_score(y_train, gb_pipeline.predict_proba(X_train)[:,1])\n",
    "skgb_test_auc = roc_auc_score(y_valid, gb_pipeline.predict_proba(X_valid)[:,1])\n",
    "\n",
    "# Model Evaluation Metrics\n",
    "print(\"Train Accuracy:\", train_accuracy)\n",
    "print(\"Test Accuracy:\", test_accuracy)\n",
    "print(\"---\")\n",
    "print(\"Train AUC:\", skrf_train_auc)\n",
    "\n",
    "print(\"Test AUC:\", skrf_test_auc)"
   ]
  },
  {
   "cell_type": "markdown",
   "id": "15e6dd56",
   "metadata": {},
   "source": [
    "# Exercice"
   ]
  },
  {
   "cell_type": "markdown",
   "id": "fdad4b7b-5e58-4dbd-9da0-5d65f8eca04e",
   "metadata": {},
   "source": [
    "## SAS Models\n",
    "SAS propose une suite complète d'outils de modélisation conçus pour l'analyse avancée et la modélisation prédictive dans divers secteurs. Désormais, ces capacités peuvent être appelées directement via une API Pythonic, compatible avec scikit-learn !\n",
    "\n",
    "Ces fonctionnalités de SAS ont été spécifiquement conçues pour offrir des performances élevées et exploitent le moteur de calcul SAS sous-jacent dans Workbench. Si vous êtes familier avec des packages comme H2O, cela est très similaire. Cependant, en utilisant l'API SAS Viya, vous n'avez pas besoin de transformer vos données en un autre format, ni d'apprendre une nouvelle syntaxe - elle est compatible avec le code existant.\n",
    "\n",
    "Essayez-les vous-même en utilisant Python pour appeler ces modèles SAS !"
   ]
  },
  {
   "cell_type": "markdown",
   "id": "388745e8-75b1-4f3a-aa6c-db159b290aa3",
   "metadata": {},
   "source": [
    "### Random Forest"
   ]
  },
  {
   "cell_type": "markdown",
   "id": "39474571",
   "metadata": {},
   "source": [
    "Dans l'exemple ci-dessous, l'utilisation du modèle Random Forest de SAS montre comment vous pouvez remplacer un modèle scikit-learn à l'intérieur d'un pipeline scikit-learn par le modèle ML de SAS Viya, avec des modifications de code minimales dans le pipeline."
   ]
  },
  {
   "cell_type": "code",
   "execution_count": 27,
   "id": "66f87249",
   "metadata": {},
   "outputs": [],
   "source": [
    "from sasviya.ml.tree import ForestClassifier"
   ]
  },
  {
   "cell_type": "code",
   "execution_count": 29,
   "id": "f460db5e-f32a-4168-99dc-1a8a852c49f5",
   "metadata": {},
   "outputs": [
    {
     "name": "stdout",
     "output_type": "stream",
     "text": [
      "Train Accuracy: 0.8598277212216131\n",
      "Test Accuracy: 0.8350730688935282\n",
      "---\n",
      "Train GINI: 0.8335161126513965\n",
      "Test GINI: 0.612832302273296\n"
     ]
    }
   ],
   "source": [
    "# Random Forest\n",
    "\n",
    "# Set a random state for consistent results\n",
    "model = ForestClassifier(\n",
    "    random_state=70\n",
    ")\n",
    "\n",
    "# Creating our model pipeline\n",
    "pipeline2 = Pipeline([\n",
    "    ('classifier', model)\n",
    "])\n",
    "\n",
    "#Train our model using the training data and training \"Status\" results\n",
    "pipeline2.fit(X_train, y_train)\n",
    "\n",
    "# Accuracy metrics comparing our training and testing data predictions to the actual results of Status\n",
    "# Data model was trained on\n",
    "train_accuracy = accuracy_score(y_train, pipeline2.predict(X_train))\n",
    "# Unseen data to test model's fit\n",
    "test_accuracy = accuracy_score(y_valid, pipeline2.predict(X_valid))\n",
    "\n",
    "sasrf_train_auc = roc_auc_score(y_train, pipeline2.predict_proba(X_train).to_numpy()[:,1])\n",
    "sasrf_test_auc = roc_auc_score(y_valid, pipeline2.predict_proba(X_valid).to_numpy()[:,1])\n",
    "\n",
    "\n",
    "\n",
    "# Model Evaluation Metrics\n",
    "print(\"Train Accuracy:\", train_accuracy)\n",
    "print(\"Test Accuracy:\", test_accuracy)\n",
    "print(\"---\")\n",
    "print(\"Train GINI:\", sasrf_train_auc)\n",
    "print(\"Test GINI:\", sasrf_test_auc)"
   ]
  },
  {
   "cell_type": "markdown",
   "id": "fa6b299a-bf79-45b4-a0fd-b075b6150101",
   "metadata": {},
   "source": [
    "### Gradient Boosting"
   ]
  },
  {
   "cell_type": "code",
   "execution_count": 31,
   "id": "2ec49745",
   "metadata": {},
   "outputs": [],
   "source": [
    "from sasviya.ml.tree import GradientBoostingClassifier as sas_GradientBoostingClassifier"
   ]
  },
  {
   "cell_type": "code",
   "execution_count": 32,
   "id": "0aa0297c-d969-40d9-ac35-1d9dcfd1d74a",
   "metadata": {},
   "outputs": [
    {
     "name": "stdout",
     "output_type": "stream",
     "text": [
      "Train Accuracy: 0.8456016705820935\n",
      "Test Accuracy: 0.8392484342379958\n",
      "---\n",
      "Train GINI: 0.7504105443264325\n",
      "Test GINI: 0.654435626485316\n"
     ]
    }
   ],
   "source": [
    "# Gradient Boosting\n",
    "\n",
    "# Set the parameters needed for our gradient boosting model\n",
    "model = sas_GradientBoostingClassifier( # not to be confused with sklearn GB\n",
    "    subsample=1.0,\n",
    "    min_samples_leaf=1,\n",
    "    max_depth=3,\n",
    "    validation_fraction=0.1,\n",
    "    tol=1e-4,\n",
    "    l2_penalty=0,\n",
    "    random_state=42\n",
    ")\n",
    "\n",
    "# Creating our model pipeline\n",
    "sasgb_pipeline = Pipeline([\n",
    "    ('classifier', model)\n",
    "])\n",
    "\n",
    "#Train our model using the training data and training \"Status\" results\n",
    "sasgb_pipeline.fit(X_train, y_train)\n",
    "\n",
    "# Accuracy metrics comparing our training and testing data predictions to the actual results of Status\n",
    "# Data model was trained on\n",
    "train_accuracy = accuracy_score(y_train, sasgb_pipeline.predict(X_train))\n",
    "# Unseen data to test model's fit\n",
    "test_accuracy = accuracy_score(y_valid, sasgb_pipeline.predict(X_valid))\n",
    "\n",
    "sasgb_train_auc = roc_auc_score(y_train, sasgb_pipeline.predict_proba(X_train).to_numpy()[:,1])\n",
    "sasgb_test_auc = roc_auc_score(y_valid, sasgb_pipeline.predict_proba(X_valid).to_numpy()[:,1])\n",
    "\n",
    "\n",
    "# Model Evaluation Metrics\n",
    "print(\"Train Accuracy:\", train_accuracy)\n",
    "print(\"Test Accuracy:\", test_accuracy)\n",
    "print(\"---\")\n",
    "print(\"Train GINI:\", sasgb_train_auc)\n",
    "print(\"Test GINI:\", sasgb_test_auc)"
   ]
  },
  {
   "cell_type": "markdown",
   "id": "0c080d17-beda-42b9-a7a6-cb8da04b3206",
   "metadata": {
    "jp-MarkdownHeadingCollapsed": true
   },
   "source": [
    "## Step 6: Model Evaluation\n"
   ]
  },
  {
   "cell_type": "code",
   "execution_count": 34,
   "id": "03b1182e-5938-48b2-8de5-9a133504bd37",
   "metadata": {},
   "outputs": [
    {
     "data": {
      "text/html": [
       "<div>\n",
       "<style scoped>\n",
       "    .dataframe tbody tr th:only-of-type {\n",
       "        vertical-align: middle;\n",
       "    }\n",
       "\n",
       "    .dataframe tbody tr th {\n",
       "        vertical-align: top;\n",
       "    }\n",
       "\n",
       "    .dataframe thead th {\n",
       "        text-align: right;\n",
       "    }\n",
       "</style>\n",
       "<table border=\"1\" class=\"dataframe\">\n",
       "  <thead>\n",
       "    <tr style=\"text-align: right;\">\n",
       "      <th></th>\n",
       "      <th>Scikit RF</th>\n",
       "      <th>Scikit GB</th>\n",
       "      <th>SAS RF</th>\n",
       "      <th>SAS GB</th>\n",
       "    </tr>\n",
       "  </thead>\n",
       "  <tbody>\n",
       "    <tr>\n",
       "      <th>0</th>\n",
       "      <td>0.602538</td>\n",
       "      <td>0.640589</td>\n",
       "      <td>0.612832</td>\n",
       "      <td>0.654436</td>\n",
       "    </tr>\n",
       "  </tbody>\n",
       "</table>\n",
       "</div>"
      ],
      "text/plain": [
       "   Scikit RF  Scikit GB    SAS RF    SAS GB\n",
       "0   0.602538   0.640589  0.612832  0.654436"
      ]
     },
     "execution_count": 34,
     "metadata": {},
     "output_type": "execute_result"
    }
   ],
   "source": [
    "model_comparison_gini = pd.DataFrame(\n",
    "    {'Scikit RF': [skrf_test_auc],\n",
    "     'Scikit GB': [skgb_test_auc],\n",
    "     'SAS RF': [sasrf_test_auc],\n",
    "     'SAS GB': [sasgb_test_auc],}\n",
    ")\n",
    "model_comparison_gini"
   ]
  },
  {
   "cell_type": "markdown",
   "id": "644e551a",
   "metadata": {},
   "source": [
    "\n",
    "<div class=\"alert alert-info\" role=\"alert\">\n",
    "\n",
    "En se basant sur nos modèles, notre meilleur modèle de performance était le <b>SAS Gradient Boosting</b>, puisqu'il a obtenu un score AUC de 0,654436.\n",
    "</div>"
   ]
  },
  {
   "cell_type": "markdown",
   "id": "f5dbea63",
   "metadata": {},
   "source": []
  },
  {
   "cell_type": "code",
   "execution_count": null,
   "id": "226367d3",
   "metadata": {},
   "outputs": [],
   "source": []
  }
 ],
 "metadata": {
  "kernelspec": {
   "display_name": "Python 3",
   "language": "python",
   "name": "python3"
  },
  "language_info": {
   "codemirror_mode": {
    "name": "ipython",
    "version": 3
   },
   "file_extension": ".py",
   "mimetype": "text/x-python",
   "name": "python",
   "nbconvert_exporter": "python",
   "pygments_lexer": "ipython3",
   "version": "3.10.11"
  }
 },
 "nbformat": 4,
 "nbformat_minor": 5
}
