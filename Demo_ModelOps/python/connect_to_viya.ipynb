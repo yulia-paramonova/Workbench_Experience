{
 "cells": [
  {
   "cell_type": "markdown",
   "metadata": {},
   "source": [
    "## Registering to Model Manager\n",
    "This notebook exemplifies how to register a model developed in Workbench to Model Manager."
   ]
  },
  {
   "cell_type": "code",
   "execution_count": 1,
   "metadata": {},
   "outputs": [],
   "source": [
    "import json\n",
    "import requests \n",
    "import os\n",
    "import sasviya \n",
    "from sasctl import Session, pzmm\n",
    "from sasctl.services import model_repository as mr\n",
    "import pickle \n",
    "import pandas as pd"
   ]
  },
  {
   "cell_type": "code",
   "execution_count": 10,
   "metadata": {},
   "outputs": [],
   "source": [
    "url = \"https://innovationlab.demo.sas.com/\"\n",
    "\n",
    "def _connect_to_instance(refresh_token, verification):\n",
    "\tauth_url = f\"{url}/SASLogon/oauth/token\"\n",
    "\t# reading long-lived refresh token from txt file\n",
    "\n",
    "\tpayload=f'grant_type=refresh_token&refresh_token={refresh_token}'\n",
    "\theaders = {\n",
    "\t'Accept': 'application/json',\n",
    "\t'Content-Type': 'application/x-www-form-urlencoded',\n",
    "\t'Authorization': 'Basic c2FzLmNsaTo=',\n",
    "\t}\n",
    "\n",
    "\tresponse = requests.request(\"POST\", auth_url, headers=headers, data=payload, verify=verification)\n",
    "\taccess_token = response.json()['access_token']\n",
    "\treturn access_token\n",
    "\n",
    "def _generate_access_token(auth_code, verification): \n",
    "\tserver = f\"{url}/SASLogon/oauth/token\"\n",
    "\n",
    "\tpayload = f'grant_type=authorization_code&code={auth_code}'\n",
    "\theaders = {\n",
    "\t\t'Accept': 'application/json',\n",
    "\t\t'Content-Type': 'application/x-www-form-urlencoded',\n",
    "\t\t'Authorization': 'Basic c2FzLmNsaTo='\n",
    "\t}\n",
    "\n",
    "\tresponse = requests.request(\"POST\", server, headers=headers, data=payload, verify=verification)\n",
    "\n",
    "\t# Parse the response text\n",
    "\tresponse_json = json.loads(response.text)\n",
    "\n",
    "\t# Get the refresh token\n",
    "\trefresh_token = response_json['refresh_token']\n",
    "\treturn refresh_token\n",
    "\n",
    "def get_connection(verify=False):\n",
    "\tif 'refresh_token.txt' not in [i.name for i in os.scandir()]:\n",
    "\t\twith open('refresh_token.txt', 'w') as file:\n",
    "\t\t\tfile.write('test')\n",
    "\tif verify:\n",
    "\t\tos.environ['CAS_CLIENT_SSL_CA_LIST'] = 'innovation_lab.pem'\n",
    "\t\tverify = 'innovation_lab.pem'\n",
    "\ttry:\n",
    "\t\twith open('refresh_token.txt', 'r') as token:\n",
    "\t\t\trefresh_token = token.read()\n",
    "\t\taccess_token = _connect_to_instance(refresh_token, verify)\n",
    "\t\twith open('access_token.txt') as file:\n",
    "\t\t\tfile.write(access_token)\n",
    "\n",
    "\texcept:\n",
    "\t\tprint(f'{url}/SASLogon/oauth/authorize?client_id=sas.cli&response_type=code')\n",
    "\t\tauth_code = input(f'Please provide your access token by going to {url}/SASLogon/oauth/authorize?client_id=sas.cli&response_type=code:')\n",
    "\t\trefresh_token = _generate_access_token(auth_code, verify)\n",
    "\t\twith open('refresh_token.txt', 'w') as file:\n",
    "\t\t\tfile.write(refresh_token)\n",
    "\t\taccess_token = _connect_to_instance(refresh_token, verify)\n",
    "\t\twith open('access_token.txt', 'w') as file:\n",
    "\t\t\tfile.write(access_token)\n",
    "\tprint('Connected!')\n",
    "\treturn access_token"
   ]
  },
  {
   "cell_type": "code",
   "execution_count": 11,
   "metadata": {},
   "outputs": [
    {
     "name": "stdout",
     "output_type": "stream",
     "text": [
      "https://innovationlab.demo.sas.com//SASLogon/oauth/authorize?client_id=sas.cli&response_type=code\n",
      "Connected!\n"
     ]
    }
   ],
   "source": [
    "access_token = get_connection(verify=True)"
   ]
  },
  {
   "cell_type": "code",
   "execution_count": 12,
   "metadata": {},
   "outputs": [
    {
     "data": {
      "text/plain": [
       "<sasctl.core.Session at 0x7fdec7bdd310>"
      ]
     },
     "execution_count": 12,
     "metadata": {},
     "output_type": "execute_result"
    }
   ],
   "source": [
    "st = Session(url, token=access_token)\n",
    "st"
   ]
  },
  {
   "cell_type": "code",
   "execution_count": 14,
   "metadata": {},
   "outputs": [],
   "source": [
    "# Change the project_name and repository name accordingly\n",
    "\n",
    "project_name = \"Workbench_Experience_1224\"\n",
    "repository_name = \"DMRepository\"\n",
    "\n",
    "repository = mr.get_repository(repository_name)\n",
    "\n",
    "project = mr.get_project(project_name)\n",
    "\n",
    "if project == None:\n",
    "    project = mr.create_project(project_name, repository)"
   ]
  },
  {
   "cell_type": "markdown",
   "metadata": {},
   "source": [
    "### Register sasviya.ml Model"
   ]
  },
  {
   "cell_type": "code",
   "execution_count": 15,
   "metadata": {},
   "outputs": [],
   "source": [
    "# Requires running the python scripts to generate the .pkl file that will be registered in MM (python script 6)\n",
    "model = sasviya.load_model('artifacts/gb_model.pkl')\n",
    "\n",
    "model_params = {\n",
    "    \"name\": \"GB_Model_ViyaML\",\n",
    "    \"projectId\": project.id,\n",
    "    \"type\": \"ASTORE\"\n",
    "}\n",
    "\n",
    "astore = mr.post(\n",
    "    \"/models\",\n",
    "    files={\"files\": (\"model_export.astore\", model.export())},\n",
    "    data=model_params,\n",
    ")"
   ]
  },
  {
   "cell_type": "markdown",
   "metadata": {},
   "source": [
    "### Register Sk-Learn Model"
   ]
  },
  {
   "cell_type": "code",
   "execution_count": 9,
   "metadata": {},
   "outputs": [],
   "source": [
    "df = pd.read_csv('../../Data/cleaned_data/train_valid_test.csv')\n",
    "train = df[df['_PartInd_']==1].reset_index(drop=True)\n",
    "test = df[df['_PartInd_']==3].reset_index(drop=True)\n",
    "\n",
    "numerical_features = ['CreditLineAge','DebtIncRatio','FICOScore','Inquiries6Mnths',\n",
    "                      'LogAnnualInc','RevBalance','RevUtilization','Installment','InterestRate']\n",
    "categorical_features = ['CreditPolicy','Delinquencies2Yrs','PublicRecord','Purpose']\n",
    "features = numerical_features+categorical_features\n",
    "target = 'Default'\n",
    "\n",
    "with open('artifacts/data_prep.pkl', mode='rb') as f:\n",
    "    data_prep = pickle.load(f)\n",
    "x_train_prep = pd.DataFrame(data_prep.transform(train[features]), columns=features)\n",
    "x_test_prep = pd.DataFrame(data_prep.transform(test[features]), columns=features)\n",
    "\n",
    "with open('artifacts/sk_model.pkl', mode='rb') as f:\n",
    "    sk_model = pickle.load(f)"
   ]
  },
  {
   "cell_type": "code",
   "execution_count": 10,
   "metadata": {},
   "outputs": [],
   "source": [
    "score_metrics = [\"I_Default\", \"P_Default1\", \"P_Default0\"]\n",
    "\n",
    "def write_json_files(data, predict, target, path, prefix):    \n",
    "    # Write input variable mapping to a json file\n",
    "    pzmm.JSONFiles.write_var_json(input_data=data[predict], is_input=True, json_path=path)\n",
    "    \n",
    "    # Set output variables and assign an event threshold, then write output variable mapping\n",
    "    output_var = pd.DataFrame(columns=score_metrics, data=[['1', 0.5, 0.5]]) # data argument includes example expected types for outputs\n",
    "    pzmm.JSONFiles.write_var_json(output_var, is_input=False, json_path=path)\n",
    "    \n",
    "    # Write model properties to a json file\n",
    "    pzmm.JSONFiles.write_model_properties_json(\n",
    "        model_name=prefix, \n",
    "        target_variable=target, # Target variable to make predictions about (BAD in this case)\n",
    "        target_values=[\"1\", \"0\"], # Possible values for the target variable (1 or 0 for binary classification of BAD)\n",
    "        json_path=path, \n",
    "        model_desc=f\"Description for the {prefix} model.\",\n",
    "        model_algorithm=\"\",\n",
    "        modeler=\"faceru\",\n",
    "    )\n",
    "    \n",
    "    # Write model metadata to a json file so that SAS Model Manager can properly identify all model files\n",
    "    pzmm.JSONFiles.write_file_metadata_json(model_prefix=prefix, json_path=path)"
   ]
  },
  {
   "cell_type": "code",
   "execution_count": 11,
   "metadata": {},
   "outputs": [
    {
     "name": "stdout",
     "output_type": "stream",
     "text": [
      "Model SK_GB was successfully pickled and saved to artifacts/sk_registration/SK_GB.pickle.\n",
      "inputVar.json was successfully written and saved to artifacts/sk_registration/inputVar.json\n",
      "outputVar.json was successfully written and saved to artifacts/sk_registration/outputVar.json\n",
      "ModelProperties.json was successfully written and saved to artifacts/sk_registration/ModelProperties.json\n",
      "fileMetadata.json was successfully written and saved to artifacts/sk_registration/fileMetadata.json\n"
     ]
    }
   ],
   "source": [
    "mypath = 'artifacts/sk_registration'\n",
    "prefix = 'SK_GB'\n",
    "if not os.path.isdir(mypath):\n",
    "   os.makedirs(mypath)\n",
    "\n",
    "pzmm.PickleModel.pickle_trained_model(\n",
    "        model_prefix=prefix,\n",
    "        trained_model=sk_model,\n",
    "        pickle_path=mypath\n",
    "    )\n",
    "write_json_files(x_train_prep, features, target, mypath, prefix)"
   ]
  },
  {
   "cell_type": "code",
   "execution_count": 12,
   "metadata": {},
   "outputs": [
    {
     "name": "stderr",
     "output_type": "stream",
     "text": [
      "/workspaces/myfolder/.venv/lib64/python3.11/site-packages/sasctl/pzmm/write_score_code.py:1645: UserWarning: Due to the ambiguity of the provided metrics and prediction return types, the score code assumes the return order to be: [classification, probability of event, probability of no event] for a single return. For batch scoring, the return order of the probabilities will mirror their return order in the model.\n",
      "  warn(\n"
     ]
    },
    {
     "name": "stdout",
     "output_type": "stream",
     "text": [
      "Model score code was written successfully to artifacts/sk_registration/score_SK_GB.py and uploaded to SAS Model Manager.\n",
      "All model files were zipped to artifacts/sk_registration.\n"
     ]
    },
    {
     "name": "stderr",
     "output_type": "stream",
     "text": [
      "/workspaces/myfolder/.venv/lib64/python3.11/site-packages/sasctl/tasks.py:238: UserWarning: This model's properties are different from the project's. If you want to run a performance definition with this model, the project's properties may need to be updated.\n",
      "  warn(\n"
     ]
    },
    {
     "name": "stdout",
     "output_type": "stream",
     "text": [
      "Model was successfully imported into SAS Model Manager as SK_GB with the following UUID: 80e305af-41df-449e-b0ce-f116212cc5f1.\n"
     ]
    },
    {
     "data": {
      "text/plain": [
       "(<class 'sasctl.core.RestObj'>(headers={'Date': 'Wed, 06 Nov 2024 10:19:36 GMT', 'Content-Type': 'application/vnd.sas.collection+json; charset=utf-8', 'Transfer-Encoding': 'chunked', 'Connection': 'keep-alive', 'Cache-Control': 'no-cache, no-store, max-age=0, must-revalidate', 'Content-Security-Policy': \"default-src 'self' *; script-src 'self' 'unsafe-inline' 'unsafe-eval' *; style-src 'self' 'unsafe-inline' *; img-src * blob: data:; child-src 'self'  * blob: data: ; frame-ancestors 'self'; form-action 'self';\", 'Expires': '0', 'Pragma': 'no-cache', 'Sas-Service-Response-Flag': 'true', 'Vary': 'Origin', 'X-Content-Type-Options': 'nosniff', 'X-Xss-Protection': '1; mode=block', 'Strict-Transport-Security': 'max-age=63072000; includeSubDomains'}, data={'creationTimeStamp': '2024-11-06T10:19:33.864Z', 'createdBy': 'Mike.Johansson@sas.com', 'modifiedTimeStamp': '2024-11-06T10:19:36.115Z', 'modifiedBy': 'Mike.Johansson@sas.com', 'id': '80e305af-41df-449e-b0ce-f116212cc5f1', 'name': 'SK_GB', 'description': 'Description for the SK_GB model.', 'role': 'plain', 'scoreCodeType': 'python', 'function': 'Classification', 'modeler': 'faceru', 'modelType': 'python', 'trainCodeType': 'Python', 'eventProbVar': 'P_1', 'targetVariable': 'Default', 'targetEvent': '1', 'targetLevel': 'binary', 'tool': 'Python 3', 'toolVersion': '3.11.9', 'version': 2, 'indirectFolderId': 'a57cea16-aeaf-4ac8-b38a-ad0129f8e0ce', 'repositoryId': 'f8c1b7c4-14dd-41bf-a00f-73650cb55a00', 'projectId': 'c0159125-d43c-4afd-b202-34a8550d6883', 'projectVersionId': '0907d6ff-2ef0-41ce-a8fc-ff5806838c1e', 'immutable': False, 'folderRef': '/folders/folders/3967356f-ada3-4c1c-b559-0f312532c6aa', 'location': '/Model Repositories/DMRepository/Live_SAS_WBWorkshop_Python_test/Version 1', 'modelVersionName': '1.0', 'projectName': 'Live_SAS_WBWorkshop_Python_test', 'projectVersionName': 'Version 1', 'projectVersionNum': '1.0', 'files': [{'creationTimeStamp': '2024-11-06T10:19:34.675482Z', 'createdBy': 'Mike.Johansson@sas.com', 'modifiedTimeStamp': '2024-11-06T10:19:34.675483Z', 'modifiedBy': 'Mike.Johansson@sas.com', 'version': 2, 'id': 'e927a10b-5672-4282-9dca-daf6de9b9044', 'name': 'ModelProperties.json', 'fileUri': '/files/files/524515bf-ec4e-4cbd-afff-d1814696858f', 'modelId': '80e305af-41df-449e-b0ce-f116212cc5f1', 'links': [{'method': 'GET', 'rel': 'UP', 'href': '/modelRepository/models/80e305af-41df-449e-b0ce-f116212cc5f1', 'uri': '/modelRepository/models/80e305af-41df-449e-b0ce-f116212cc5f1', 'itemType': 'application/vnd.sas.models.model.content'}, {'method': 'GET', 'rel': 'self', 'href': '/modelRepository/models/80e305af-41df-449e-b0ce-f116212cc5f1/contents/e927a10b-5672-4282-9dca-daf6de9b9044', 'uri': '/modelRepository/models/80e305af-41df-449e-b0ce-f116212cc5f1/contents/e927a10b-5672-4282-9dca-daf6de9b9044', 'type': 'application/vnd.sas.models.model.content'}, {'method': 'GET', 'rel': 'content', 'uri': '/modelRepository/models/80e305af-41df-449e-b0ce-f116212cc5f1/contents/e927a10b-5672-4282-9dca-daf6de9b9044/content', 'type': 'application/octet-stream'}, {'method': 'POST', 'rel': 'create', 'href': '/modelRepository/models/80e305af-41df-449e-b0ce-f116212cc5f1/contents/e927a10b-5672-4282-9dca-daf6de9b9044', 'uri': '/modelRepository/models/80e305af-41df-449e-b0ce-f116212cc5f1/contents/e927a10b-5672-4282-9dca-daf6de9b9044', 'type': 'multipart/form-data'}, {'method': 'PUT', 'rel': 'update', 'href': '/modelRepository/models/80e305af-41df-449e-b0ce-f116212cc5f1/contents/e927a10b-5672-4282-9dca-daf6de9b9044', 'uri': '/modelRepository/models/80e305af-41df-449e-b0ce-f116212cc5f1/contents/e927a10b-5672-4282-9dca-daf6de9b9044', 'type': 'application/vnd.sas.models.model.content'}, {'method': 'PUT', 'rel': 'updateContentMultipart', 'href': '/modelRepository/models/80e305af-41df-449e-b0ce-f116212cc5f1/contents/e927a10b-5672-4282-9dca-daf6de9b9044', 'uri': '/modelRepository/models/80e305af-41df-449e-b0ce-f116212cc5f1/contents/e927a10b-5672-4282-9dca-daf6de9b9044', 'type': 'application/vnd.sas.models.model.content'}, {'method': 'DELETE', 'rel': 'delete', 'href': '/modelRepository/models/80e305af-41df-449e-b0ce-f116212cc5f1/contents/e927a10b-5672-4282-9dca-daf6de9b9044', 'uri': '/modelRepository/models/80e305af-41df-449e-b0ce-f116212cc5f1/contents/e927a10b-5672-4282-9dca-daf6de9b9044'}]}, {'creationTimeStamp': '2024-11-06T10:19:34.889144Z', 'createdBy': 'Mike.Johansson@sas.com', 'modifiedTimeStamp': '2024-11-06T10:19:35.605021Z', 'modifiedBy': 'Mike.Johansson@sas.com', 'version': 2, 'id': '78b74df3-6cb6-4ddb-afc3-69dfdda57a54', 'name': 'SK_GB.pickle', 'role': 'scoreResource', 'fileUri': '/files/files/09a4732d-a1a7-4421-a6e4-2b168fbe7b5c', 'modelId': '80e305af-41df-449e-b0ce-f116212cc5f1', 'links': [{'method': 'GET', 'rel': 'UP', 'href': '/modelRepository/models/80e305af-41df-449e-b0ce-f116212cc5f1', 'uri': '/modelRepository/models/80e305af-41df-449e-b0ce-f116212cc5f1', 'itemType': 'application/vnd.sas.models.model.content'}, {'method': 'GET', 'rel': 'self', 'href': '/modelRepository/models/80e305af-41df-449e-b0ce-f116212cc5f1/contents/78b74df3-6cb6-4ddb-afc3-69dfdda57a54', 'uri': '/modelRepository/models/80e305af-41df-449e-b0ce-f116212cc5f1/contents/78b74df3-6cb6-4ddb-afc3-69dfdda57a54', 'type': 'application/vnd.sas.models.model.content'}, {'method': 'GET', 'rel': 'content', 'uri': '/modelRepository/models/80e305af-41df-449e-b0ce-f116212cc5f1/contents/78b74df3-6cb6-4ddb-afc3-69dfdda57a54/content', 'type': 'application/octet-stream'}, {'method': 'POST', 'rel': 'create', 'href': '/modelRepository/models/80e305af-41df-449e-b0ce-f116212cc5f1/contents/78b74df3-6cb6-4ddb-afc3-69dfdda57a54', 'uri': '/modelRepository/models/80e305af-41df-449e-b0ce-f116212cc5f1/contents/78b74df3-6cb6-4ddb-afc3-69dfdda57a54', 'type': 'multipart/form-data'}, {'method': 'PUT', 'rel': 'update', 'href': '/modelRepository/models/80e305af-41df-449e-b0ce-f116212cc5f1/contents/78b74df3-6cb6-4ddb-afc3-69dfdda57a54', 'uri': '/modelRepository/models/80e305af-41df-449e-b0ce-f116212cc5f1/contents/78b74df3-6cb6-4ddb-afc3-69dfdda57a54', 'type': 'application/vnd.sas.models.model.content'}, {'method': 'PUT', 'rel': 'updateContentMultipart', 'href': '/modelRepository/models/80e305af-41df-449e-b0ce-f116212cc5f1/contents/78b74df3-6cb6-4ddb-afc3-69dfdda57a54', 'uri': '/modelRepository/models/80e305af-41df-449e-b0ce-f116212cc5f1/contents/78b74df3-6cb6-4ddb-afc3-69dfdda57a54', 'type': 'application/vnd.sas.models.model.content'}, {'method': 'DELETE', 'rel': 'delete', 'href': '/modelRepository/models/80e305af-41df-449e-b0ce-f116212cc5f1/contents/78b74df3-6cb6-4ddb-afc3-69dfdda57a54', 'uri': '/modelRepository/models/80e305af-41df-449e-b0ce-f116212cc5f1/contents/78b74df3-6cb6-4ddb-afc3-69dfdda57a54'}]}, {'creationTimeStamp': '2024-11-06T10:19:35.239193Z', 'createdBy': 'Mike.Johansson@sas.com', 'modifiedTimeStamp': '2024-11-06T10:19:35.646979Z', 'modifiedBy': 'Mike.Johansson@sas.com', 'version': 2, 'id': '12e1fac9-4c14-42c9-8d1b-1282cf63b4b2', 'name': 'inputVar.json', 'role': 'inputVariables', 'fileUri': '/files/files/9811b81b-d5e8-46c1-a355-134eee50c8a6', 'modelId': '80e305af-41df-449e-b0ce-f116212cc5f1', 'links': [{'method': 'GET', 'rel': 'UP', 'href': '/modelRepository/models/80e305af-41df-449e-b0ce-f116212cc5f1', 'uri': '/modelRepository/models/80e305af-41df-449e-b0ce-f116212cc5f1', 'itemType': 'application/vnd.sas.models.model.content'}, {'method': 'GET', 'rel': 'self', 'href': '/modelRepository/models/80e305af-41df-449e-b0ce-f116212cc5f1/contents/12e1fac9-4c14-42c9-8d1b-1282cf63b4b2', 'uri': '/modelRepository/models/80e305af-41df-449e-b0ce-f116212cc5f1/contents/12e1fac9-4c14-42c9-8d1b-1282cf63b4b2', 'type': 'application/vnd.sas.models.model.content'}, {'method': 'GET', 'rel': 'content', 'uri': '/modelRepository/models/80e305af-41df-449e-b0ce-f116212cc5f1/contents/12e1fac9-4c14-42c9-8d1b-1282cf63b4b2/content', 'type': 'application/octet-stream'}, {'method': 'POST', 'rel': 'create', 'href': '/modelRepository/models/80e305af-41df-449e-b0ce-f116212cc5f1/contents/12e1fac9-4c14-42c9-8d1b-1282cf63b4b2', 'uri': '/modelRepository/models/80e305af-41df-449e-b0ce-f116212cc5f1/contents/12e1fac9-4c14-42c9-8d1b-1282cf63b4b2', 'type': 'multipart/form-data'}, {'method': 'PUT', 'rel': 'update', 'href': '/modelRepository/models/80e305af-41df-449e-b0ce-f116212cc5f1/contents/12e1fac9-4c14-42c9-8d1b-1282cf63b4b2', 'uri': '/modelRepository/models/80e305af-41df-449e-b0ce-f116212cc5f1/contents/12e1fac9-4c14-42c9-8d1b-1282cf63b4b2', 'type': 'application/vnd.sas.models.model.content'}, {'method': 'PUT', 'rel': 'updateContentMultipart', 'href': '/modelRepository/models/80e305af-41df-449e-b0ce-f116212cc5f1/contents/12e1fac9-4c14-42c9-8d1b-1282cf63b4b2', 'uri': '/modelRepository/models/80e305af-41df-449e-b0ce-f116212cc5f1/contents/12e1fac9-4c14-42c9-8d1b-1282cf63b4b2', 'type': 'application/vnd.sas.models.model.content'}, {'method': 'DELETE', 'rel': 'delete', 'href': '/modelRepository/models/80e305af-41df-449e-b0ce-f116212cc5f1/contents/12e1fac9-4c14-42c9-8d1b-1282cf63b4b2', 'uri': '/modelRepository/models/80e305af-41df-449e-b0ce-f116212cc5f1/contents/12e1fac9-4c14-42c9-8d1b-1282cf63b4b2'}]}, {'creationTimeStamp': '2024-11-06T10:19:35.455383Z', 'createdBy': 'Mike.Johansson@sas.com', 'modifiedTimeStamp': '2024-11-06T10:19:35.649164Z', 'modifiedBy': 'Mike.Johansson@sas.com', 'version': 2, 'id': '4b002801-9127-4089-b668-806e4d297a83', 'name': 'outputVar.json', 'role': 'outputVariables', 'fileUri': '/files/files/ee1c1ac1-9d6e-482e-bb93-7206fd9b35fd', 'modelId': '80e305af-41df-449e-b0ce-f116212cc5f1', 'links': [{'method': 'GET', 'rel': 'UP', 'href': '/modelRepository/models/80e305af-41df-449e-b0ce-f116212cc5f1', 'uri': '/modelRepository/models/80e305af-41df-449e-b0ce-f116212cc5f1', 'itemType': 'application/vnd.sas.models.model.content'}, {'method': 'GET', 'rel': 'self', 'href': '/modelRepository/models/80e305af-41df-449e-b0ce-f116212cc5f1/contents/4b002801-9127-4089-b668-806e4d297a83', 'uri': '/modelRepository/models/80e305af-41df-449e-b0ce-f116212cc5f1/contents/4b002801-9127-4089-b668-806e4d297a83', 'type': 'application/vnd.sas.models.model.content'}, {'method': 'GET', 'rel': 'content', 'uri': '/modelRepository/models/80e305af-41df-449e-b0ce-f116212cc5f1/contents/4b002801-9127-4089-b668-806e4d297a83/content', 'type': 'application/octet-stream'}, {'method': 'POST', 'rel': 'create', 'href': '/modelRepository/models/80e305af-41df-449e-b0ce-f116212cc5f1/contents/4b002801-9127-4089-b668-806e4d297a83', 'uri': '/modelRepository/models/80e305af-41df-449e-b0ce-f116212cc5f1/contents/4b002801-9127-4089-b668-806e4d297a83', 'type': 'multipart/form-data'}, {'method': 'PUT', 'rel': 'update', 'href': '/modelRepository/models/80e305af-41df-449e-b0ce-f116212cc5f1/contents/4b002801-9127-4089-b668-806e4d297a83', 'uri': '/modelRepository/models/80e305af-41df-449e-b0ce-f116212cc5f1/contents/4b002801-9127-4089-b668-806e4d297a83', 'type': 'application/vnd.sas.models.model.content'}, {'method': 'PUT', 'rel': 'updateContentMultipart', 'href': '/modelRepository/models/80e305af-41df-449e-b0ce-f116212cc5f1/contents/4b002801-9127-4089-b668-806e4d297a83', 'uri': '/modelRepository/models/80e305af-41df-449e-b0ce-f116212cc5f1/contents/4b002801-9127-4089-b668-806e4d297a83', 'type': 'application/vnd.sas.models.model.content'}, {'method': 'DELETE', 'rel': 'delete', 'href': '/modelRepository/models/80e305af-41df-449e-b0ce-f116212cc5f1/contents/4b002801-9127-4089-b668-806e4d297a83', 'uri': '/modelRepository/models/80e305af-41df-449e-b0ce-f116212cc5f1/contents/4b002801-9127-4089-b668-806e4d297a83'}]}, {'creationTimeStamp': '2024-11-06T10:19:35.579477Z', 'createdBy': 'Mike.Johansson@sas.com', 'modifiedTimeStamp': '2024-11-06T10:19:35.662143Z', 'modifiedBy': 'Mike.Johansson@sas.com', 'version': 2, 'id': 'd268faa7-bd5d-41b0-b574-de5c49363629', 'name': 'score_SK_GB.py', 'role': 'score', 'fileUri': '/files/files/05b0cae3-4322-45e8-ac11-1b926d79480b', 'modelId': '80e305af-41df-449e-b0ce-f116212cc5f1', 'links': [{'method': 'GET', 'rel': 'UP', 'href': '/modelRepository/models/80e305af-41df-449e-b0ce-f116212cc5f1', 'uri': '/modelRepository/models/80e305af-41df-449e-b0ce-f116212cc5f1', 'itemType': 'application/vnd.sas.models.model.content'}, {'method': 'GET', 'rel': 'self', 'href': '/modelRepository/models/80e305af-41df-449e-b0ce-f116212cc5f1/contents/d268faa7-bd5d-41b0-b574-de5c49363629', 'uri': '/modelRepository/models/80e305af-41df-449e-b0ce-f116212cc5f1/contents/d268faa7-bd5d-41b0-b574-de5c49363629', 'type': 'application/vnd.sas.models.model.content'}, {'method': 'GET', 'rel': 'content', 'uri': '/modelRepository/models/80e305af-41df-449e-b0ce-f116212cc5f1/contents/d268faa7-bd5d-41b0-b574-de5c49363629/content', 'type': 'application/octet-stream'}, {'method': 'POST', 'rel': 'create', 'href': '/modelRepository/models/80e305af-41df-449e-b0ce-f116212cc5f1/contents/d268faa7-bd5d-41b0-b574-de5c49363629', 'uri': '/modelRepository/models/80e305af-41df-449e-b0ce-f116212cc5f1/contents/d268faa7-bd5d-41b0-b574-de5c49363629', 'type': 'multipart/form-data'}, {'method': 'PUT', 'rel': 'update', 'href': '/modelRepository/models/80e305af-41df-449e-b0ce-f116212cc5f1/contents/d268faa7-bd5d-41b0-b574-de5c49363629', 'uri': '/modelRepository/models/80e305af-41df-449e-b0ce-f116212cc5f1/contents/d268faa7-bd5d-41b0-b574-de5c49363629', 'type': 'application/vnd.sas.models.model.content'}, {'method': 'PUT', 'rel': 'updateContentMultipart', 'href': '/modelRepository/models/80e305af-41df-449e-b0ce-f116212cc5f1/contents/d268faa7-bd5d-41b0-b574-de5c49363629', 'uri': '/modelRepository/models/80e305af-41df-449e-b0ce-f116212cc5f1/contents/d268faa7-bd5d-41b0-b574-de5c49363629', 'type': 'application/vnd.sas.models.model.content'}, {'method': 'DELETE', 'rel': 'delete', 'href': '/modelRepository/models/80e305af-41df-449e-b0ce-f116212cc5f1/contents/d268faa7-bd5d-41b0-b574-de5c49363629', 'uri': '/modelRepository/models/80e305af-41df-449e-b0ce-f116212cc5f1/contents/d268faa7-bd5d-41b0-b574-de5c49363629'}]}, {'creationTimeStamp': '2024-11-06T10:19:35.976248Z', 'createdBy': 'Mike.Johansson@sas.com', 'modifiedTimeStamp': '2024-11-06T10:19:35.976248Z', 'modifiedBy': 'Mike.Johansson@sas.com', 'version': 2, 'id': '517ec703-064c-490c-a161-1d68f25056eb', 'name': 'fileMetadata.json', 'fileUri': '/files/files/0e6e4401-a03d-416a-8758-98999b5f4fa8', 'modelId': '80e305af-41df-449e-b0ce-f116212cc5f1', 'links': [{'method': 'GET', 'rel': 'UP', 'href': '/modelRepository/models/80e305af-41df-449e-b0ce-f116212cc5f1', 'uri': '/modelRepository/models/80e305af-41df-449e-b0ce-f116212cc5f1', 'itemType': 'application/vnd.sas.models.model.content'}, {'method': 'GET', 'rel': 'self', 'href': '/modelRepository/models/80e305af-41df-449e-b0ce-f116212cc5f1/contents/517ec703-064c-490c-a161-1d68f25056eb', 'uri': '/modelRepository/models/80e305af-41df-449e-b0ce-f116212cc5f1/contents/517ec703-064c-490c-a161-1d68f25056eb', 'type': 'application/vnd.sas.models.model.content'}, {'method': 'GET', 'rel': 'content', 'uri': '/modelRepository/models/80e305af-41df-449e-b0ce-f116212cc5f1/contents/517ec703-064c-490c-a161-1d68f25056eb/content', 'type': 'application/octet-stream'}, {'method': 'POST', 'rel': 'create', 'href': '/modelRepository/models/80e305af-41df-449e-b0ce-f116212cc5f1/contents/517ec703-064c-490c-a161-1d68f25056eb', 'uri': '/modelRepository/models/80e305af-41df-449e-b0ce-f116212cc5f1/contents/517ec703-064c-490c-a161-1d68f25056eb', 'type': 'multipart/form-data'}, {'method': 'PUT', 'rel': 'update', 'href': '/modelRepository/models/80e305af-41df-449e-b0ce-f116212cc5f1/contents/517ec703-064c-490c-a161-1d68f25056eb', 'uri': '/modelRepository/models/80e305af-41df-449e-b0ce-f116212cc5f1/contents/517ec703-064c-490c-a161-1d68f25056eb', 'type': 'application/vnd.sas.models.model.content'}, {'method': 'PUT', 'rel': 'updateContentMultipart', 'href': '/modelRepository/models/80e305af-41df-449e-b0ce-f116212cc5f1/contents/517ec703-064c-490c-a161-1d68f25056eb', 'uri': '/modelRepository/models/80e305af-41df-449e-b0ce-f116212cc5f1/contents/517ec703-064c-490c-a161-1d68f25056eb', 'type': 'application/vnd.sas.models.model.content'}, {'method': 'DELETE', 'rel': 'delete', 'href': '/modelRepository/models/80e305af-41df-449e-b0ce-f116212cc5f1/contents/517ec703-064c-490c-a161-1d68f25056eb', 'uri': '/modelRepository/models/80e305af-41df-449e-b0ce-f116212cc5f1/contents/517ec703-064c-490c-a161-1d68f25056eb'}]}], 'inputVariables': [{'creationTimeStamp': '2024-11-06T10:19:34.935287Z', 'createdBy': 'anonymous', 'modifiedTimeStamp': '2024-11-06T10:19:34.935287Z', 'modifiedBy': 'anonymous', 'name': 'CreditLineAge', 'description': '', 'role': 'input', 'type': 'decimal', 'level': 'interval', 'format': '', 'aggregation': '', 'length': 8, 'id': '6d579232-96ff-457b-9652-f78ace8fb099', 'holderId': '80e305af-41df-449e-b0ce-f116212cc5f1', 'links': [{'method': 'GET', 'rel': 'up', 'href': '/modelRepository/models/80e305af-41df-449e-b0ce-f116212cc5f1/variables/6d579232-96ff-457b-9652-f78ace8fb099', 'uri': '/modelRepository/models/80e305af-41df-449e-b0ce-f116212cc5f1/variables', 'type': 'application/vnd.sas.collection'}, {'method': 'GET', 'rel': 'self', 'href': '/modelRepository/models/80e305af-41df-449e-b0ce-f116212cc5f1/variables/6d579232-96ff-457b-9652-f78ace8fb099', 'uri': '/modelRepository/models/80e305af-41df-449e-b0ce-f116212cc5f1/variables/6d579232-96ff-457b-9652-f78ace8fb099', 'type': 'application/vnd.sas.models.model.variable'}, {'method': 'PUT', 'rel': 'update', 'href': '/modelRepository/models/80e305af-41df-449e-b0ce-f116212cc5f1/variables/6d579232-96ff-457b-9652-f78ace8fb099', 'uri': '/modelRepository/models/80e305af-41df-449e-b0ce-f116212cc5f1/variables/6d579232-96ff-457b-9652-f78ace8fb099', 'type': 'application/vnd.sas.models.model.variable'}, {'method': 'DELETE', 'rel': 'delete', 'href': '/modelRepository/models/80e305af-41df-449e-b0ce-f116212cc5f1/variables/6d579232-96ff-457b-9652-f78ace8fb099', 'uri': '/modelRepository/models/80e305af-41df-449e-b0ce-f116212cc5f1/variables/6d579232-96ff-457b-9652-f78ace8fb099', 'type': 'application/vnd.sas.models.model.variable'}]}, {'creationTimeStamp': '2024-11-06T10:19:34.946671Z', 'createdBy': 'anonymous', 'modifiedTimeStamp': '2024-11-06T10:19:34.946672Z', 'modifiedBy': 'anonymous', 'name': 'DebtIncRatio', 'description': '', 'role': 'input', 'type': 'decimal', 'level': 'interval', 'format': '', 'aggregation': '', 'length': 8, 'id': '4d241ca0-8423-418d-af77-32df7b0b1be6', 'holderId': '80e305af-41df-449e-b0ce-f116212cc5f1', 'links': [{'method': 'GET', 'rel': 'up', 'href': '/modelRepository/models/80e305af-41df-449e-b0ce-f116212cc5f1/variables/4d241ca0-8423-418d-af77-32df7b0b1be6', 'uri': '/modelRepository/models/80e305af-41df-449e-b0ce-f116212cc5f1/variables', 'type': 'application/vnd.sas.collection'}, {'method': 'GET', 'rel': 'self', 'href': '/modelRepository/models/80e305af-41df-449e-b0ce-f116212cc5f1/variables/4d241ca0-8423-418d-af77-32df7b0b1be6', 'uri': '/modelRepository/models/80e305af-41df-449e-b0ce-f116212cc5f1/variables/4d241ca0-8423-418d-af77-32df7b0b1be6', 'type': 'application/vnd.sas.models.model.variable'}, {'method': 'PUT', 'rel': 'update', 'href': '/modelRepository/models/80e305af-41df-449e-b0ce-f116212cc5f1/variables/4d241ca0-8423-418d-af77-32df7b0b1be6', 'uri': '/modelRepository/models/80e305af-41df-449e-b0ce-f116212cc5f1/variables/4d241ca0-8423-418d-af77-32df7b0b1be6', 'type': 'application/vnd.sas.models.model.variable'}, {'method': 'DELETE', 'rel': 'delete', 'href': '/modelRepository/models/80e305af-41df-449e-b0ce-f116212cc5f1/variables/4d241ca0-8423-418d-af77-32df7b0b1be6', 'uri': '/modelRepository/models/80e305af-41df-449e-b0ce-f116212cc5f1/variables/4d241ca0-8423-418d-af77-32df7b0b1be6', 'type': 'application/vnd.sas.models.model.variable'}]}, {'creationTimeStamp': '2024-11-06T10:19:34.950616Z', 'createdBy': 'anonymous', 'modifiedTimeStamp': '2024-11-06T10:19:34.950617Z', 'modifiedBy': 'anonymous', 'name': 'FICOScore', 'description': '', 'role': 'input', 'type': 'decimal', 'level': 'interval', 'format': '', 'aggregation': '', 'length': 8, 'id': 'f4a85e00-4b73-49f7-a93d-0807702e5962', 'holderId': '80e305af-41df-449e-b0ce-f116212cc5f1', 'links': [{'method': 'GET', 'rel': 'up', 'href': '/modelRepository/models/80e305af-41df-449e-b0ce-f116212cc5f1/variables/f4a85e00-4b73-49f7-a93d-0807702e5962', 'uri': '/modelRepository/models/80e305af-41df-449e-b0ce-f116212cc5f1/variables', 'type': 'application/vnd.sas.collection'}, {'method': 'GET', 'rel': 'self', 'href': '/modelRepository/models/80e305af-41df-449e-b0ce-f116212cc5f1/variables/f4a85e00-4b73-49f7-a93d-0807702e5962', 'uri': '/modelRepository/models/80e305af-41df-449e-b0ce-f116212cc5f1/variables/f4a85e00-4b73-49f7-a93d-0807702e5962', 'type': 'application/vnd.sas.models.model.variable'}, {'method': 'PUT', 'rel': 'update', 'href': '/modelRepository/models/80e305af-41df-449e-b0ce-f116212cc5f1/variables/f4a85e00-4b73-49f7-a93d-0807702e5962', 'uri': '/modelRepository/models/80e305af-41df-449e-b0ce-f116212cc5f1/variables/f4a85e00-4b73-49f7-a93d-0807702e5962', 'type': 'application/vnd.sas.models.model.variable'}, {'method': 'DELETE', 'rel': 'delete', 'href': '/modelRepository/models/80e305af-41df-449e-b0ce-f116212cc5f1/variables/f4a85e00-4b73-49f7-a93d-0807702e5962', 'uri': '/modelRepository/models/80e305af-41df-449e-b0ce-f116212cc5f1/variables/f4a85e00-4b73-49f7-a93d-0807702e5962', 'type': 'application/vnd.sas.models.model.variable'}]}, {'creationTimeStamp': '2024-11-06T10:19:34.956802Z', 'createdBy': 'anonymous', 'modifiedTimeStamp': '2024-11-06T10:19:34.956803Z', 'modifiedBy': 'anonymous', 'name': 'Inquiries6Mnths', 'description': '', 'role': 'input', 'type': 'decimal', 'level': 'interval', 'format': '', 'aggregation': '', 'length': 8, 'id': '5b9528fe-33ef-47b5-9479-418f7b748850', 'holderId': '80e305af-41df-449e-b0ce-f116212cc5f1', 'links': [{'method': 'GET', 'rel': 'up', 'href': '/modelRepository/models/80e305af-41df-449e-b0ce-f116212cc5f1/variables/5b9528fe-33ef-47b5-9479-418f7b748850', 'uri': '/modelRepository/models/80e305af-41df-449e-b0ce-f116212cc5f1/variables', 'type': 'application/vnd.sas.collection'}, {'method': 'GET', 'rel': 'self', 'href': '/modelRepository/models/80e305af-41df-449e-b0ce-f116212cc5f1/variables/5b9528fe-33ef-47b5-9479-418f7b748850', 'uri': '/modelRepository/models/80e305af-41df-449e-b0ce-f116212cc5f1/variables/5b9528fe-33ef-47b5-9479-418f7b748850', 'type': 'application/vnd.sas.models.model.variable'}, {'method': 'PUT', 'rel': 'update', 'href': '/modelRepository/models/80e305af-41df-449e-b0ce-f116212cc5f1/variables/5b9528fe-33ef-47b5-9479-418f7b748850', 'uri': '/modelRepository/models/80e305af-41df-449e-b0ce-f116212cc5f1/variables/5b9528fe-33ef-47b5-9479-418f7b748850', 'type': 'application/vnd.sas.models.model.variable'}, {'method': 'DELETE', 'rel': 'delete', 'href': '/modelRepository/models/80e305af-41df-449e-b0ce-f116212cc5f1/variables/5b9528fe-33ef-47b5-9479-418f7b748850', 'uri': '/modelRepository/models/80e305af-41df-449e-b0ce-f116212cc5f1/variables/5b9528fe-33ef-47b5-9479-418f7b748850', 'type': 'application/vnd.sas.models.model.variable'}]}, {'creationTimeStamp': '2024-11-06T10:19:34.98058Z', 'createdBy': 'anonymous', 'modifiedTimeStamp': '2024-11-06T10:19:34.980581Z', 'modifiedBy': 'anonymous', 'name': 'LogAnnualInc', 'description': '', 'role': 'input', 'type': 'decimal', 'level': 'interval', 'format': '', 'aggregation': '', 'length': 8, 'id': 'bd9a34d9-5103-4224-9546-19656d4863b8', 'holderId': '80e305af-41df-449e-b0ce-f116212cc5f1', 'links': [{'method': 'GET', 'rel': 'up', 'href': '/modelRepository/models/80e305af-41df-449e-b0ce-f116212cc5f1/variables/bd9a34d9-5103-4224-9546-19656d4863b8', 'uri': '/modelRepository/models/80e305af-41df-449e-b0ce-f116212cc5f1/variables', 'type': 'application/vnd.sas.collection'}, {'method': 'GET', 'rel': 'self', 'href': '/modelRepository/models/80e305af-41df-449e-b0ce-f116212cc5f1/variables/bd9a34d9-5103-4224-9546-19656d4863b8', 'uri': '/modelRepository/models/80e305af-41df-449e-b0ce-f116212cc5f1/variables/bd9a34d9-5103-4224-9546-19656d4863b8', 'type': 'application/vnd.sas.models.model.variable'}, {'method': 'PUT', 'rel': 'update', 'href': '/modelRepository/models/80e305af-41df-449e-b0ce-f116212cc5f1/variables/bd9a34d9-5103-4224-9546-19656d4863b8', 'uri': '/modelRepository/models/80e305af-41df-449e-b0ce-f116212cc5f1/variables/bd9a34d9-5103-4224-9546-19656d4863b8', 'type': 'application/vnd.sas.models.model.variable'}, {'method': 'DELETE', 'rel': 'delete', 'href': '/modelRepository/models/80e305af-41df-449e-b0ce-f116212cc5f1/variables/bd9a34d9-5103-4224-9546-19656d4863b8', 'uri': '/modelRepository/models/80e305af-41df-449e-b0ce-f116212cc5f1/variables/bd9a34d9-5103-4224-9546-19656d4863b8', 'type': 'application/vnd.sas.models.model.variable'}]}, {'creationTimeStamp': '2024-11-06T10:19:34.994095Z', 'createdBy': 'anonymous', 'modifiedTimeStamp': '2024-11-06T10:19:34.994096Z', 'modifiedBy': 'anonymous', 'name': 'RevBalance', 'description': '', 'role': 'input', 'type': 'decimal', 'level': 'interval', 'format': '', 'aggregation': '', 'length': 8, 'id': 'd7234624-1472-40ad-a655-0e91166d0905', 'holderId': '80e305af-41df-449e-b0ce-f116212cc5f1', 'links': [{'method': 'GET', 'rel': 'up', 'href': '/modelRepository/models/80e305af-41df-449e-b0ce-f116212cc5f1/variables/d7234624-1472-40ad-a655-0e91166d0905', 'uri': '/modelRepository/models/80e305af-41df-449e-b0ce-f116212cc5f1/variables', 'type': 'application/vnd.sas.collection'}, {'method': 'GET', 'rel': 'self', 'href': '/modelRepository/models/80e305af-41df-449e-b0ce-f116212cc5f1/variables/d7234624-1472-40ad-a655-0e91166d0905', 'uri': '/modelRepository/models/80e305af-41df-449e-b0ce-f116212cc5f1/variables/d7234624-1472-40ad-a655-0e91166d0905', 'type': 'application/vnd.sas.models.model.variable'}, {'method': 'PUT', 'rel': 'update', 'href': '/modelRepository/models/80e305af-41df-449e-b0ce-f116212cc5f1/variables/d7234624-1472-40ad-a655-0e91166d0905', 'uri': '/modelRepository/models/80e305af-41df-449e-b0ce-f116212cc5f1/variables/d7234624-1472-40ad-a655-0e91166d0905', 'type': 'application/vnd.sas.models.model.variable'}, {'method': 'DELETE', 'rel': 'delete', 'href': '/modelRepository/models/80e305af-41df-449e-b0ce-f116212cc5f1/variables/d7234624-1472-40ad-a655-0e91166d0905', 'uri': '/modelRepository/models/80e305af-41df-449e-b0ce-f116212cc5f1/variables/d7234624-1472-40ad-a655-0e91166d0905', 'type': 'application/vnd.sas.models.model.variable'}]}, {'creationTimeStamp': '2024-11-06T10:19:34.998901Z', 'createdBy': 'anonymous', 'modifiedTimeStamp': '2024-11-06T10:19:34.998901Z', 'modifiedBy': 'anonymous', 'name': 'RevUtilization', 'description': '', 'role': 'input', 'type': 'decimal', 'level': 'interval', 'format': '', 'aggregation': '', 'length': 8, 'id': '2915dc2f-0d62-4e30-8321-739fc66afd6f', 'holderId': '80e305af-41df-449e-b0ce-f116212cc5f1', 'links': [{'method': 'GET', 'rel': 'up', 'href': '/modelRepository/models/80e305af-41df-449e-b0ce-f116212cc5f1/variables/2915dc2f-0d62-4e30-8321-739fc66afd6f', 'uri': '/modelRepository/models/80e305af-41df-449e-b0ce-f116212cc5f1/variables', 'type': 'application/vnd.sas.collection'}, {'method': 'GET', 'rel': 'self', 'href': '/modelRepository/models/80e305af-41df-449e-b0ce-f116212cc5f1/variables/2915dc2f-0d62-4e30-8321-739fc66afd6f', 'uri': '/modelRepository/models/80e305af-41df-449e-b0ce-f116212cc5f1/variables/2915dc2f-0d62-4e30-8321-739fc66afd6f', 'type': 'application/vnd.sas.models.model.variable'}, {'method': 'PUT', 'rel': 'update', 'href': '/modelRepository/models/80e305af-41df-449e-b0ce-f116212cc5f1/variables/2915dc2f-0d62-4e30-8321-739fc66afd6f', 'uri': '/modelRepository/models/80e305af-41df-449e-b0ce-f116212cc5f1/variables/2915dc2f-0d62-4e30-8321-739fc66afd6f', 'type': 'application/vnd.sas.models.model.variable'}, {'method': 'DELETE', 'rel': 'delete', 'href': '/modelRepository/models/80e305af-41df-449e-b0ce-f116212cc5f1/variables/2915dc2f-0d62-4e30-8321-739fc66afd6f', 'uri': '/modelRepository/models/80e305af-41df-449e-b0ce-f116212cc5f1/variables/2915dc2f-0d62-4e30-8321-739fc66afd6f', 'type': 'application/vnd.sas.models.model.variable'}]}, {'creationTimeStamp': '2024-11-06T10:19:35.031949Z', 'createdBy': 'anonymous', 'modifiedTimeStamp': '2024-11-06T10:19:35.031949Z', 'modifiedBy': 'anonymous', 'name': 'Installment', 'description': '', 'role': 'input', 'type': 'decimal', 'level': 'interval', 'format': '', 'aggregation': '', 'length': 8, 'id': '306dc307-4aeb-46e2-ba17-d72fcc0ced36', 'holderId': '80e305af-41df-449e-b0ce-f116212cc5f1', 'links': [{'method': 'GET', 'rel': 'up', 'href': '/modelRepository/models/80e305af-41df-449e-b0ce-f116212cc5f1/variables/306dc307-4aeb-46e2-ba17-d72fcc0ced36', 'uri': '/modelRepository/models/80e305af-41df-449e-b0ce-f116212cc5f1/variables', 'type': 'application/vnd.sas.collection'}, {'method': 'GET', 'rel': 'self', 'href': '/modelRepository/models/80e305af-41df-449e-b0ce-f116212cc5f1/variables/306dc307-4aeb-46e2-ba17-d72fcc0ced36', 'uri': '/modelRepository/models/80e305af-41df-449e-b0ce-f116212cc5f1/variables/306dc307-4aeb-46e2-ba17-d72fcc0ced36', 'type': 'application/vnd.sas.models.model.variable'}, {'method': 'PUT', 'rel': 'update', 'href': '/modelRepository/models/80e305af-41df-449e-b0ce-f116212cc5f1/variables/306dc307-4aeb-46e2-ba17-d72fcc0ced36', 'uri': '/modelRepository/models/80e305af-41df-449e-b0ce-f116212cc5f1/variables/306dc307-4aeb-46e2-ba17-d72fcc0ced36', 'type': 'application/vnd.sas.models.model.variable'}, {'method': 'DELETE', 'rel': 'delete', 'href': '/modelRepository/models/80e305af-41df-449e-b0ce-f116212cc5f1/variables/306dc307-4aeb-46e2-ba17-d72fcc0ced36', 'uri': '/modelRepository/models/80e305af-41df-449e-b0ce-f116212cc5f1/variables/306dc307-4aeb-46e2-ba17-d72fcc0ced36', 'type': 'application/vnd.sas.models.model.variable'}]}, {'creationTimeStamp': '2024-11-06T10:19:35.03468Z', 'createdBy': 'anonymous', 'modifiedTimeStamp': '2024-11-06T10:19:35.03468Z', 'modifiedBy': 'anonymous', 'name': 'InterestRate', 'description': '', 'role': 'input', 'type': 'decimal', 'level': 'interval', 'format': '', 'aggregation': '', 'length': 8, 'id': '678185c7-f43c-4c59-a898-9a25bdbcd1a9', 'holderId': '80e305af-41df-449e-b0ce-f116212cc5f1', 'links': [{'method': 'GET', 'rel': 'up', 'href': '/modelRepository/models/80e305af-41df-449e-b0ce-f116212cc5f1/variables/678185c7-f43c-4c59-a898-9a25bdbcd1a9', 'uri': '/modelRepository/models/80e305af-41df-449e-b0ce-f116212cc5f1/variables', 'type': 'application/vnd.sas.collection'}, {'method': 'GET', 'rel': 'self', 'href': '/modelRepository/models/80e305af-41df-449e-b0ce-f116212cc5f1/variables/678185c7-f43c-4c59-a898-9a25bdbcd1a9', 'uri': '/modelRepository/models/80e305af-41df-449e-b0ce-f116212cc5f1/variables/678185c7-f43c-4c59-a898-9a25bdbcd1a9', 'type': 'application/vnd.sas.models.model.variable'}, {'method': 'PUT', 'rel': 'update', 'href': '/modelRepository/models/80e305af-41df-449e-b0ce-f116212cc5f1/variables/678185c7-f43c-4c59-a898-9a25bdbcd1a9', 'uri': '/modelRepository/models/80e305af-41df-449e-b0ce-f116212cc5f1/variables/678185c7-f43c-4c59-a898-9a25bdbcd1a9', 'type': 'application/vnd.sas.models.model.variable'}, {'method': 'DELETE', 'rel': 'delete', 'href': '/modelRepository/models/80e305af-41df-449e-b0ce-f116212cc5f1/variables/678185c7-f43c-4c59-a898-9a25bdbcd1a9', 'uri': '/modelRepository/models/80e305af-41df-449e-b0ce-f116212cc5f1/variables/678185c7-f43c-4c59-a898-9a25bdbcd1a9', 'type': 'application/vnd.sas.models.model.variable'}]}, {'creationTimeStamp': '2024-11-06T10:19:35.038437Z', 'createdBy': 'anonymous', 'modifiedTimeStamp': '2024-11-06T10:19:35.038438Z', 'modifiedBy': 'anonymous', 'name': 'CreditPolicy', 'description': '', 'role': 'input', 'type': 'decimal', 'level': 'interval', 'format': '', 'aggregation': '', 'length': 8, 'id': '8eec63c3-e804-4e30-9094-dca30618a819', 'holderId': '80e305af-41df-449e-b0ce-f116212cc5f1', 'links': [{'method': 'GET', 'rel': 'up', 'href': '/modelRepository/models/80e305af-41df-449e-b0ce-f116212cc5f1/variables/8eec63c3-e804-4e30-9094-dca30618a819', 'uri': '/modelRepository/models/80e305af-41df-449e-b0ce-f116212cc5f1/variables', 'type': 'application/vnd.sas.collection'}, {'method': 'GET', 'rel': 'self', 'href': '/modelRepository/models/80e305af-41df-449e-b0ce-f116212cc5f1/variables/8eec63c3-e804-4e30-9094-dca30618a819', 'uri': '/modelRepository/models/80e305af-41df-449e-b0ce-f116212cc5f1/variables/8eec63c3-e804-4e30-9094-dca30618a819', 'type': 'application/vnd.sas.models.model.variable'}, {'method': 'PUT', 'rel': 'update', 'href': '/modelRepository/models/80e305af-41df-449e-b0ce-f116212cc5f1/variables/8eec63c3-e804-4e30-9094-dca30618a819', 'uri': '/modelRepository/models/80e305af-41df-449e-b0ce-f116212cc5f1/variables/8eec63c3-e804-4e30-9094-dca30618a819', 'type': 'application/vnd.sas.models.model.variable'}, {'method': 'DELETE', 'rel': 'delete', 'href': '/modelRepository/models/80e305af-41df-449e-b0ce-f116212cc5f1/variables/8eec63c3-e804-4e30-9094-dca30618a819', 'uri': '/modelRepository/models/80e305af-41df-449e-b0ce-f116212cc5f1/variables/8eec63c3-e804-4e30-9094-dca30618a819', 'type': 'application/vnd.sas.models.model.variable'}]}, {'creationTimeStamp': '2024-11-06T10:19:35.041662Z', 'createdBy': 'anonymous', 'modifiedTimeStamp': '2024-11-06T10:19:35.041662Z', 'modifiedBy': 'anonymous', 'name': 'Delinquencies2Yrs', 'description': '', 'role': 'input', 'type': 'decimal', 'level': 'interval', 'format': '', 'aggregation': '', 'length': 8, 'id': '1d4c80a2-81a8-4a3e-b0d2-e73066b2d1e4', 'holderId': '80e305af-41df-449e-b0ce-f116212cc5f1', 'links': [{'method': 'GET', 'rel': 'up', 'href': '/modelRepository/models/80e305af-41df-449e-b0ce-f116212cc5f1/variables/1d4c80a2-81a8-4a3e-b0d2-e73066b2d1e4', 'uri': '/modelRepository/models/80e305af-41df-449e-b0ce-f116212cc5f1/variables', 'type': 'application/vnd.sas.collection'}, {'method': 'GET', 'rel': 'self', 'href': '/modelRepository/models/80e305af-41df-449e-b0ce-f116212cc5f1/variables/1d4c80a2-81a8-4a3e-b0d2-e73066b2d1e4', 'uri': '/modelRepository/models/80e305af-41df-449e-b0ce-f116212cc5f1/variables/1d4c80a2-81a8-4a3e-b0d2-e73066b2d1e4', 'type': 'application/vnd.sas.models.model.variable'}, {'method': 'PUT', 'rel': 'update', 'href': '/modelRepository/models/80e305af-41df-449e-b0ce-f116212cc5f1/variables/1d4c80a2-81a8-4a3e-b0d2-e73066b2d1e4', 'uri': '/modelRepository/models/80e305af-41df-449e-b0ce-f116212cc5f1/variables/1d4c80a2-81a8-4a3e-b0d2-e73066b2d1e4', 'type': 'application/vnd.sas.models.model.variable'}, {'method': 'DELETE', 'rel': 'delete', 'href': '/modelRepository/models/80e305af-41df-449e-b0ce-f116212cc5f1/variables/1d4c80a2-81a8-4a3e-b0d2-e73066b2d1e4', 'uri': '/modelRepository/models/80e305af-41df-449e-b0ce-f116212cc5f1/variables/1d4c80a2-81a8-4a3e-b0d2-e73066b2d1e4', 'type': 'application/vnd.sas.models.model.variable'}]}, {'creationTimeStamp': '2024-11-06T10:19:35.044477Z', 'createdBy': 'anonymous', 'modifiedTimeStamp': '2024-11-06T10:19:35.044477Z', 'modifiedBy': 'anonymous', 'name': 'PublicRecord', 'description': '', 'role': 'input', 'type': 'decimal', 'level': 'interval', 'format': '', 'aggregation': '', 'length': 8, 'id': 'bfce458b-4b60-480b-aa6a-ff821bca1eac', 'holderId': '80e305af-41df-449e-b0ce-f116212cc5f1', 'links': [{'method': 'GET', 'rel': 'up', 'href': '/modelRepository/models/80e305af-41df-449e-b0ce-f116212cc5f1/variables/bfce458b-4b60-480b-aa6a-ff821bca1eac', 'uri': '/modelRepository/models/80e305af-41df-449e-b0ce-f116212cc5f1/variables', 'type': 'application/vnd.sas.collection'}, {'method': 'GET', 'rel': 'self', 'href': '/modelRepository/models/80e305af-41df-449e-b0ce-f116212cc5f1/variables/bfce458b-4b60-480b-aa6a-ff821bca1eac', 'uri': '/modelRepository/models/80e305af-41df-449e-b0ce-f116212cc5f1/variables/bfce458b-4b60-480b-aa6a-ff821bca1eac', 'type': 'application/vnd.sas.models.model.variable'}, {'method': 'PUT', 'rel': 'update', 'href': '/modelRepository/models/80e305af-41df-449e-b0ce-f116212cc5f1/variables/bfce458b-4b60-480b-aa6a-ff821bca1eac', 'uri': '/modelRepository/models/80e305af-41df-449e-b0ce-f116212cc5f1/variables/bfce458b-4b60-480b-aa6a-ff821bca1eac', 'type': 'application/vnd.sas.models.model.variable'}, {'method': 'DELETE', 'rel': 'delete', 'href': '/modelRepository/models/80e305af-41df-449e-b0ce-f116212cc5f1/variables/bfce458b-4b60-480b-aa6a-ff821bca1eac', 'uri': '/modelRepository/models/80e305af-41df-449e-b0ce-f116212cc5f1/variables/bfce458b-4b60-480b-aa6a-ff821bca1eac', 'type': 'application/vnd.sas.models.model.variable'}]}, {'creationTimeStamp': '2024-11-06T10:19:35.133396Z', 'createdBy': 'anonymous', 'modifiedTimeStamp': '2024-11-06T10:19:35.133397Z', 'modifiedBy': 'anonymous', 'name': 'Purpose', 'description': '', 'role': 'input', 'type': 'decimal', 'level': 'interval', 'format': '', 'aggregation': '', 'length': 8, 'id': 'e749ce14-c11a-4da5-b3e6-199fd5651971', 'holderId': '80e305af-41df-449e-b0ce-f116212cc5f1', 'links': [{'method': 'GET', 'rel': 'up', 'href': '/modelRepository/models/80e305af-41df-449e-b0ce-f116212cc5f1/variables/e749ce14-c11a-4da5-b3e6-199fd5651971', 'uri': '/modelRepository/models/80e305af-41df-449e-b0ce-f116212cc5f1/variables', 'type': 'application/vnd.sas.collection'}, {'method': 'GET', 'rel': 'self', 'href': '/modelRepository/models/80e305af-41df-449e-b0ce-f116212cc5f1/variables/e749ce14-c11a-4da5-b3e6-199fd5651971', 'uri': '/modelRepository/models/80e305af-41df-449e-b0ce-f116212cc5f1/variables/e749ce14-c11a-4da5-b3e6-199fd5651971', 'type': 'application/vnd.sas.models.model.variable'}, {'method': 'PUT', 'rel': 'update', 'href': '/modelRepository/models/80e305af-41df-449e-b0ce-f116212cc5f1/variables/e749ce14-c11a-4da5-b3e6-199fd5651971', 'uri': '/modelRepository/models/80e305af-41df-449e-b0ce-f116212cc5f1/variables/e749ce14-c11a-4da5-b3e6-199fd5651971', 'type': 'application/vnd.sas.models.model.variable'}, {'method': 'DELETE', 'rel': 'delete', 'href': '/modelRepository/models/80e305af-41df-449e-b0ce-f116212cc5f1/variables/e749ce14-c11a-4da5-b3e6-199fd5651971', 'uri': '/modelRepository/models/80e305af-41df-449e-b0ce-f116212cc5f1/variables/e749ce14-c11a-4da5-b3e6-199fd5651971', 'type': 'application/vnd.sas.models.model.variable'}]}], 'outputVariables': [{'creationTimeStamp': '2024-11-06T10:19:35.247404Z', 'createdBy': 'anonymous', 'modifiedTimeStamp': '2024-11-06T10:19:35.247404Z', 'modifiedBy': 'anonymous', 'name': 'I_Default', 'description': '', 'role': 'output', 'type': 'string', 'level': 'nominal', 'format': '', 'aggregation': '', 'length': 1, 'id': 'dfa54652-d399-4819-bd21-9a3b5daf6d7a', 'holderId': '80e305af-41df-449e-b0ce-f116212cc5f1', 'links': [{'method': 'GET', 'rel': 'up', 'href': '/modelRepository/models/80e305af-41df-449e-b0ce-f116212cc5f1/variables/dfa54652-d399-4819-bd21-9a3b5daf6d7a', 'uri': '/modelRepository/models/80e305af-41df-449e-b0ce-f116212cc5f1/variables', 'type': 'application/vnd.sas.collection'}, {'method': 'GET', 'rel': 'self', 'href': '/modelRepository/models/80e305af-41df-449e-b0ce-f116212cc5f1/variables/dfa54652-d399-4819-bd21-9a3b5daf6d7a', 'uri': '/modelRepository/models/80e305af-41df-449e-b0ce-f116212cc5f1/variables/dfa54652-d399-4819-bd21-9a3b5daf6d7a', 'type': 'application/vnd.sas.models.model.variable'}, {'method': 'PUT', 'rel': 'update', 'href': '/modelRepository/models/80e305af-41df-449e-b0ce-f116212cc5f1/variables/dfa54652-d399-4819-bd21-9a3b5daf6d7a', 'uri': '/modelRepository/models/80e305af-41df-449e-b0ce-f116212cc5f1/variables/dfa54652-d399-4819-bd21-9a3b5daf6d7a', 'type': 'application/vnd.sas.models.model.variable'}, {'method': 'DELETE', 'rel': 'delete', 'href': '/modelRepository/models/80e305af-41df-449e-b0ce-f116212cc5f1/variables/dfa54652-d399-4819-bd21-9a3b5daf6d7a', 'uri': '/modelRepository/models/80e305af-41df-449e-b0ce-f116212cc5f1/variables/dfa54652-d399-4819-bd21-9a3b5daf6d7a', 'type': 'application/vnd.sas.models.model.variable'}]}, {'creationTimeStamp': '2024-11-06T10:19:35.299784Z', 'createdBy': 'anonymous', 'modifiedTimeStamp': '2024-11-06T10:19:35.299784Z', 'modifiedBy': 'anonymous', 'name': 'P_Default1', 'description': '', 'role': 'output', 'type': 'decimal', 'level': 'interval', 'format': '', 'aggregation': '', 'length': 8, 'id': '1c1710b1-62a3-4b99-b3e1-aa4d4348a454', 'holderId': '80e305af-41df-449e-b0ce-f116212cc5f1', 'links': [{'method': 'GET', 'rel': 'up', 'href': '/modelRepository/models/80e305af-41df-449e-b0ce-f116212cc5f1/variables/1c1710b1-62a3-4b99-b3e1-aa4d4348a454', 'uri': '/modelRepository/models/80e305af-41df-449e-b0ce-f116212cc5f1/variables', 'type': 'application/vnd.sas.collection'}, {'method': 'GET', 'rel': 'self', 'href': '/modelRepository/models/80e305af-41df-449e-b0ce-f116212cc5f1/variables/1c1710b1-62a3-4b99-b3e1-aa4d4348a454', 'uri': '/modelRepository/models/80e305af-41df-449e-b0ce-f116212cc5f1/variables/1c1710b1-62a3-4b99-b3e1-aa4d4348a454', 'type': 'application/vnd.sas.models.model.variable'}, {'method': 'PUT', 'rel': 'update', 'href': '/modelRepository/models/80e305af-41df-449e-b0ce-f116212cc5f1/variables/1c1710b1-62a3-4b99-b3e1-aa4d4348a454', 'uri': '/modelRepository/models/80e305af-41df-449e-b0ce-f116212cc5f1/variables/1c1710b1-62a3-4b99-b3e1-aa4d4348a454', 'type': 'application/vnd.sas.models.model.variable'}, {'method': 'DELETE', 'rel': 'delete', 'href': '/modelRepository/models/80e305af-41df-449e-b0ce-f116212cc5f1/variables/1c1710b1-62a3-4b99-b3e1-aa4d4348a454', 'uri': '/modelRepository/models/80e305af-41df-449e-b0ce-f116212cc5f1/variables/1c1710b1-62a3-4b99-b3e1-aa4d4348a454', 'type': 'application/vnd.sas.models.model.variable'}]}, {'creationTimeStamp': '2024-11-06T10:19:35.301564Z', 'createdBy': 'anonymous', 'modifiedTimeStamp': '2024-11-06T10:19:35.301565Z', 'modifiedBy': 'anonymous', 'name': 'P_Default0', 'description': '', 'role': 'output', 'type': 'decimal', 'level': 'interval', 'format': '', 'aggregation': '', 'length': 8, 'id': '1357383f-e68a-45eb-90d2-9f98d93ea011', 'holderId': '80e305af-41df-449e-b0ce-f116212cc5f1', 'links': [{'method': 'GET', 'rel': 'up', 'href': '/modelRepository/models/80e305af-41df-449e-b0ce-f116212cc5f1/variables/1357383f-e68a-45eb-90d2-9f98d93ea011', 'uri': '/modelRepository/models/80e305af-41df-449e-b0ce-f116212cc5f1/variables', 'type': 'application/vnd.sas.collection'}, {'method': 'GET', 'rel': 'self', 'href': '/modelRepository/models/80e305af-41df-449e-b0ce-f116212cc5f1/variables/1357383f-e68a-45eb-90d2-9f98d93ea011', 'uri': '/modelRepository/models/80e305af-41df-449e-b0ce-f116212cc5f1/variables/1357383f-e68a-45eb-90d2-9f98d93ea011', 'type': 'application/vnd.sas.models.model.variable'}, {'method': 'PUT', 'rel': 'update', 'href': '/modelRepository/models/80e305af-41df-449e-b0ce-f116212cc5f1/variables/1357383f-e68a-45eb-90d2-9f98d93ea011', 'uri': '/modelRepository/models/80e305af-41df-449e-b0ce-f116212cc5f1/variables/1357383f-e68a-45eb-90d2-9f98d93ea011', 'type': 'application/vnd.sas.models.model.variable'}, {'method': 'DELETE', 'rel': 'delete', 'href': '/modelRepository/models/80e305af-41df-449e-b0ce-f116212cc5f1/variables/1357383f-e68a-45eb-90d2-9f98d93ea011', 'uri': '/modelRepository/models/80e305af-41df-449e-b0ce-f116212cc5f1/variables/1357383f-e68a-45eb-90d2-9f98d93ea011', 'type': 'application/vnd.sas.models.model.variable'}]}], 'modelVersions': [], 'modelLocks': None, 'globalTags': ['ProductManagement', 'Active', 'TrustworthyAI', 'MitigateBias', 'SAS', 'PythonAPI', 'TAI', 'Home_Equity_Loans', 'HMEQ', 'Loans'], 'links': [{'method': 'GET', 'rel': 'up', 'href': '/modelRepository/models', 'uri': '/modelRepository/models', 'type': 'application/vnd.sas.models.model'}, {'method': 'GET', 'rel': 'self', 'href': '/modelRepository/models/80e305af-41df-449e-b0ce-f116212cc5f1', 'uri': '/modelRepository/models/80e305af-41df-449e-b0ce-f116212cc5f1', 'type': 'application/vnd.sas.models.model'}, {'method': 'PUT', 'rel': 'update', 'href': '/modelRepository/models/80e305af-41df-449e-b0ce-f116212cc5f1', 'uri': '/modelRepository/models/80e305af-41df-449e-b0ce-f116212cc5f1', 'type': 'application/vnd.sas.models.model', 'responseItemType': 'application/vnd.sas.models.model'}, {'method': 'DELETE', 'rel': 'delete', 'href': '/modelRepository/models/80e305af-41df-449e-b0ce-f116212cc5f1', 'uri': '/modelRepository/models/80e305af-41df-449e-b0ce-f116212cc5f1'}, {'method': 'GET', 'rel': 'scoreCode', 'href': '/modelRepository/models/80e305af-41df-449e-b0ce-f116212cc5f1/code', 'uri': '/modelRepository/models/80e305af-41df-449e-b0ce-f116212cc5f1/code', 'type': 'text/plain'}, {'method': 'GET', 'rel': 'contents', 'href': '/modelRepository/models/80e305af-41df-449e-b0ce-f116212cc5f1/contents', 'uri': '/modelRepository/models/80e305af-41df-449e-b0ce-f116212cc5f1/contents', 'type': 'application/vnd.sas.collection', 'itemType': 'application/vnd.sas.models.model.content'}, {'method': 'GET', 'rel': 'modelVersions', 'href': '/modelRepository/models/80e305af-41df-449e-b0ce-f116212cc5f1/modelVersions', 'uri': '/modelRepository/models/80e305af-41df-449e-b0ce-f116212cc5f1/modelVersions', 'type': 'application/vnd.sas.collection', 'responseItemType': 'application/vnd.sas.models.model.version'}, {'method': 'POST', 'rel': 'addModelVersion', 'href': '/modelRepository/models/80e305af-41df-449e-b0ce-f116212cc5f1/modelVersions', 'uri': '/modelRepository/models/80e305af-41df-449e-b0ce-f116212cc5f1/modelVersions', 'type': 'application/vnd.sas.models.model.version'}, {'method': 'GET', 'rel': 'variables', 'href': '/modelRepository/models/80e305af-41df-449e-b0ce-f116212cc5f1/variables', 'uri': '/modelRepository/models/80e305af-41df-449e-b0ce-f116212cc5f1/variables', 'type': 'application/vnd.sas.collection', 'itemType': 'application/vnd.sas.models.model.variable'}]}),\n",
       " 'artifacts/sk_registration')"
      ]
     },
     "execution_count": 12,
     "metadata": {},
     "output_type": "execute_result"
    }
   ],
   "source": [
    "pzmm.ImportModel.import_model(\n",
    "        model_files=mypath, # Where are the model files?\n",
    "        model_prefix=prefix, # What is the model name?\n",
    "        project=project_name, # What is the project name?\n",
    "        input_data=x_train_prep, # What does example input data look like?\n",
    "        predict_method=[sk_model.predict_proba, [int, int]], # What is the predict method and what does it return?\n",
    "        score_metrics=score_metrics, # What are the output variables?\n",
    "        overwrite_model=True, # Overwrite the model if it already exists?\n",
    "        target_values=[\"0\", \"1\"], # What are the expected values of the target variable?\n",
    "        target_index=1, # What is the index of the target value in target_values?\n",
    "        model_file_name=prefix + \".pickle\", # How was the model file serialized?\n",
    "        missing_values=False # Does the data include missing values?\n",
    "    )"
   ]
  },
  {
   "cell_type": "code",
   "execution_count": null,
   "metadata": {},
   "outputs": [],
   "source": []
  }
 ],
 "metadata": {
  "kernelspec": {
   "display_name": ".venv",
   "language": "python",
   "name": "python3"
  },
  "language_info": {
   "codemirror_mode": {
    "name": "ipython",
    "version": 3
   },
   "file_extension": ".py",
   "mimetype": "text/x-python",
   "name": "python",
   "nbconvert_exporter": "python",
   "pygments_lexer": "ipython3",
   "version": "3.11.9"
  }
 },
 "nbformat": 4,
 "nbformat_minor": 2
}
