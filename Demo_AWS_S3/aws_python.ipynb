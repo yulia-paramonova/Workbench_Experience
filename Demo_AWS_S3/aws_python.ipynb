{
 "cells": [
  {
   "cell_type": "code",
   "execution_count": 1,
   "metadata": {},
   "outputs": [],
   "source": [
    "import boto3\n",
    "import awswrangler as wr\n",
    "from credentials import *"
   ]
  },
  {
   "cell_type": "markdown",
   "metadata": {},
   "source": [
    "### Read Data"
   ]
  },
  {
   "cell_type": "code",
   "execution_count": 2,
   "metadata": {},
   "outputs": [],
   "source": [
    "# Create a session using boto3\n",
    "session = boto3.Session(\n",
    "    aws_access_key_id=aws_access_key_id,\n",
    "    aws_secret_access_key=aws_secret_access_key,\n",
    "    region_name=aws_region_name\n",
    ")"
   ]
  },
  {
   "cell_type": "code",
   "execution_count": 3,
   "metadata": {},
   "outputs": [
    {
     "data": {
      "text/plain": [
       "['s3://workbench-workshop/data/LendingClubLoanData.csv',\n",
       " 's3://workbench-workshop/data/LendingClubLoanData.parquet',\n",
       " 's3://workbench-workshop/test_python/LendingClubLoanData.parquet',\n",
       " 's3://workbench-workshop/test_sas/test.parquet']"
      ]
     },
     "execution_count": 3,
     "metadata": {},
     "output_type": "execute_result"
    }
   ],
   "source": [
    "wr.s3.list_objects('s3://workbench-workshop/',boto3_session=session)"
   ]
  },
  {
   "cell_type": "code",
   "execution_count": 4,
   "metadata": {},
   "outputs": [
    {
     "data": {
      "text/html": [
       "<div>\n",
       "<style scoped>\n",
       "    .dataframe tbody tr th:only-of-type {\n",
       "        vertical-align: middle;\n",
       "    }\n",
       "\n",
       "    .dataframe tbody tr th {\n",
       "        vertical-align: top;\n",
       "    }\n",
       "\n",
       "    .dataframe thead th {\n",
       "        text-align: right;\n",
       "    }\n",
       "</style>\n",
       "<table border=\"1\" class=\"dataframe\">\n",
       "  <thead>\n",
       "    <tr style=\"text-align: right;\">\n",
       "      <th></th>\n",
       "      <th>CreditPolicy</th>\n",
       "      <th>Purpose</th>\n",
       "      <th>InterestRate</th>\n",
       "      <th>Installment</th>\n",
       "      <th>LogAnnualInc</th>\n",
       "      <th>DebtIncRatio</th>\n",
       "      <th>FICOScore</th>\n",
       "      <th>CreditLineAge</th>\n",
       "      <th>RevBalance</th>\n",
       "      <th>RevUtilization</th>\n",
       "      <th>Inquiries6Mnths</th>\n",
       "      <th>Delinquencies2Yrs</th>\n",
       "      <th>PublicRecord</th>\n",
       "      <th>Default</th>\n",
       "      <th>Age</th>\n",
       "      <th>Race</th>\n",
       "      <th>Gender</th>\n",
       "    </tr>\n",
       "  </thead>\n",
       "  <tbody>\n",
       "    <tr>\n",
       "      <th>0</th>\n",
       "      <td>1</td>\n",
       "      <td>debt_consolidation</td>\n",
       "      <td>0.1183</td>\n",
       "      <td>298.21</td>\n",
       "      <td>10.858999</td>\n",
       "      <td>20.49</td>\n",
       "      <td>712</td>\n",
       "      <td>4619.958333</td>\n",
       "      <td>23750</td>\n",
       "      <td>47.7</td>\n",
       "      <td>1</td>\n",
       "      <td>0</td>\n",
       "      <td>0</td>\n",
       "      <td>0</td>\n",
       "      <td>23</td>\n",
       "      <td>White</td>\n",
       "      <td>Female</td>\n",
       "    </tr>\n",
       "    <tr>\n",
       "      <th>1</th>\n",
       "      <td>1</td>\n",
       "      <td>educational</td>\n",
       "      <td>0.1148</td>\n",
       "      <td>461.56</td>\n",
       "      <td>11.599103</td>\n",
       "      <td>21.29</td>\n",
       "      <td>727</td>\n",
       "      <td>5250.000000</td>\n",
       "      <td>15812</td>\n",
       "      <td>50.0</td>\n",
       "      <td>1</td>\n",
       "      <td>0</td>\n",
       "      <td>0</td>\n",
       "      <td>1</td>\n",
       "      <td>63</td>\n",
       "      <td>Hispanic</td>\n",
       "      <td>Male</td>\n",
       "    </tr>\n",
       "    <tr>\n",
       "      <th>2</th>\n",
       "      <td>1</td>\n",
       "      <td>credit_card</td>\n",
       "      <td>0.1322</td>\n",
       "      <td>202.81</td>\n",
       "      <td>10.991426</td>\n",
       "      <td>14.47</td>\n",
       "      <td>682</td>\n",
       "      <td>4289.958333</td>\n",
       "      <td>6891</td>\n",
       "      <td>59.8</td>\n",
       "      <td>0</td>\n",
       "      <td>0</td>\n",
       "      <td>0</td>\n",
       "      <td>0</td>\n",
       "      <td>8</td>\n",
       "      <td>Hispanic</td>\n",
       "      <td>Male</td>\n",
       "    </tr>\n",
       "    <tr>\n",
       "      <th>3</th>\n",
       "      <td>1</td>\n",
       "      <td>home_improvement</td>\n",
       "      <td>0.1357</td>\n",
       "      <td>339.69</td>\n",
       "      <td>11.711776</td>\n",
       "      <td>8.38</td>\n",
       "      <td>682</td>\n",
       "      <td>5160.000000</td>\n",
       "      <td>865</td>\n",
       "      <td>72.1</td>\n",
       "      <td>3</td>\n",
       "      <td>0</td>\n",
       "      <td>0</td>\n",
       "      <td>0</td>\n",
       "      <td>37</td>\n",
       "      <td>Black</td>\n",
       "      <td>Male</td>\n",
       "    </tr>\n",
       "    <tr>\n",
       "      <th>4</th>\n",
       "      <td>1</td>\n",
       "      <td>all_other</td>\n",
       "      <td>0.1531</td>\n",
       "      <td>174.08</td>\n",
       "      <td>10.768401</td>\n",
       "      <td>3.79</td>\n",
       "      <td>672</td>\n",
       "      <td>3030.000000</td>\n",
       "      <td>2029</td>\n",
       "      <td>20.3</td>\n",
       "      <td>3</td>\n",
       "      <td>0</td>\n",
       "      <td>0</td>\n",
       "      <td>1</td>\n",
       "      <td>82</td>\n",
       "      <td>White</td>\n",
       "      <td>Female</td>\n",
       "    </tr>\n",
       "  </tbody>\n",
       "</table>\n",
       "</div>"
      ],
      "text/plain": [
       "   CreditPolicy             Purpose  InterestRate  Installment  LogAnnualInc  \\\n",
       "0             1  debt_consolidation        0.1183       298.21     10.858999   \n",
       "1             1         educational        0.1148       461.56     11.599103   \n",
       "2             1         credit_card        0.1322       202.81     10.991426   \n",
       "3             1    home_improvement        0.1357       339.69     11.711776   \n",
       "4             1           all_other        0.1531       174.08     10.768401   \n",
       "\n",
       "   DebtIncRatio  FICOScore  CreditLineAge  RevBalance  RevUtilization  \\\n",
       "0         20.49        712    4619.958333       23750            47.7   \n",
       "1         21.29        727    5250.000000       15812            50.0   \n",
       "2         14.47        682    4289.958333        6891            59.8   \n",
       "3          8.38        682    5160.000000         865            72.1   \n",
       "4          3.79        672    3030.000000        2029            20.3   \n",
       "\n",
       "   Inquiries6Mnths  Delinquencies2Yrs  PublicRecord  Default  Age      Race  \\\n",
       "0                1                  0             0        0   23     White   \n",
       "1                1                  0             0        1   63  Hispanic   \n",
       "2                0                  0             0        0    8  Hispanic   \n",
       "3                3                  0             0        0   37     Black   \n",
       "4                3                  0             0        1   82     White   \n",
       "\n",
       "   Gender  \n",
       "0  Female  \n",
       "1    Male  \n",
       "2    Male  \n",
       "3    Male  \n",
       "4  Female  "
      ]
     },
     "execution_count": 4,
     "metadata": {},
     "output_type": "execute_result"
    }
   ],
   "source": [
    "# Read Data\n",
    "df_data = wr.s3.read_csv(\"s3://workbench-workshop/data/LendingClubLoanData.csv\", boto3_session=session)\n",
    "df_data.head()"
   ]
  },
  {
   "cell_type": "markdown",
   "metadata": {},
   "source": [
    "### Save it to AWS"
   ]
  },
  {
   "cell_type": "code",
   "execution_count": 5,
   "metadata": {},
   "outputs": [],
   "source": [
    "df_data = df_data.sample(frac=1).head(50).reset_index(drop=True)"
   ]
  },
  {
   "cell_type": "code",
   "execution_count": 6,
   "metadata": {},
   "outputs": [
    {
     "data": {
      "text/plain": [
       "{'paths': ['s3://workbench-workshop/test_python/LendingClubLoanData.parquet'],\n",
       " 'partitions_values': {}}"
      ]
     },
     "execution_count": 6,
     "metadata": {},
     "output_type": "execute_result"
    }
   ],
   "source": [
    "wr.s3.to_parquet(df_data, \"s3://workbench-workshop/test_python/LendingClubLoanData.parquet\", boto3_session=session)"
   ]
  }
 ],
 "metadata": {
  "kernelspec": {
   "display_name": ".venv",
   "language": "python",
   "name": "python3"
  },
  "language_info": {
   "codemirror_mode": {
    "name": "ipython",
    "version": 3
   },
   "file_extension": ".py",
   "mimetype": "text/x-python",
   "name": "python",
   "nbconvert_exporter": "python",
   "pygments_lexer": "ipython3",
   "version": "3.11.9"
  }
 },
 "nbformat": 4,
 "nbformat_minor": 2
}
